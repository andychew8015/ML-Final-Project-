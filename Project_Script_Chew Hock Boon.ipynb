{
 "cells": [
  {
   "cell_type": "markdown",
   "metadata": {},
   "source": [
    "### Scenario\n",
    "\n",
    "As one of the leading telco in the country, the company are proud to provide quality services that have been receiving satisfactory feedback from customers frequently. But from recent quarterly reports, there have been a drop in the customer base.\n",
    "We are instructed by the management to create a model to predict if a customer will churn so that they are able to come up with solutions to keep hold of them.\n",
    "\n",
    "### Objective\n",
    "1. Understand the dataset\n",
    "2. Perform data cleaning\n",
    "3. Pre-process the dataset for our model \n",
    "4. Find the baseline of some models and choose the suitable model\n",
    "5. Evaluate the final model selected\n",
    "\n",
    "### Challenges\n",
    "- Check if the dataset have duplicate data and missing values\n",
    "- To decide on the encoding method for categorical features\n",
    "- If  scaling is needed on the dataset\n",
    "- What approach should we use if the dataset is imbalanced\n",
    "- Since “Churn” (“Yes” or “No”) will be the label, our model will be a Supervised Classification Model. We will try a few models like Logistic Regression, Decision Trees, Random Forest, Support Vector Machine, Gradient Boost, XGBoost and select the best performed model for our problem\n",
    "- Tune the hyperparameter of the selected model to improve the performance"
   ]
  },
  {
   "cell_type": "code",
   "execution_count": 1,
   "metadata": {},
   "outputs": [],
   "source": [
    "import pandas as pd\n",
    "import numpy as np\n",
    "import matplotlib.pyplot as plt\n",
    "import seaborn as sns\n",
    "%matplotlib inline\n",
    "from sklearn.preprocessing import OrdinalEncoder, LabelEncoder, StandardScaler\n",
    "from sklearn.model_selection import train_test_split, GridSearchCV\n",
    "from sklearn.linear_model import LogisticRegression\n",
    "from sklearn.tree import DecisionTreeClassifier\n",
    "from sklearn.ensemble import RandomForestClassifier, GradientBoostingClassifier\n",
    "from sklearn.svm import SVC\n",
    "import xgboost as xgb\n",
    "from sklearn.utils import class_weight\n",
    "from sklearn.metrics import confusion_matrix, classification_report, roc_auc_score,\\\n",
    "precision_score, recall_score, accuracy_score, f1_score, log_loss\n",
    "import warnings\n",
    "warnings.filterwarnings('ignore')"
   ]
  },
  {
   "cell_type": "markdown",
   "metadata": {},
   "source": [
    "### Data Cleaning\n",
    "\n",
    "Import and understand the dataset."
   ]
  },
  {
   "cell_type": "code",
   "execution_count": 77,
   "metadata": {},
   "outputs": [
    {
     "data": {
      "text/html": [
       "<div>\n",
       "<style scoped>\n",
       "    .dataframe tbody tr th:only-of-type {\n",
       "        vertical-align: middle;\n",
       "    }\n",
       "\n",
       "    .dataframe tbody tr th {\n",
       "        vertical-align: top;\n",
       "    }\n",
       "\n",
       "    .dataframe thead th {\n",
       "        text-align: right;\n",
       "    }\n",
       "</style>\n",
       "<table border=\"1\" class=\"dataframe\">\n",
       "  <thead>\n",
       "    <tr style=\"text-align: right;\">\n",
       "      <th></th>\n",
       "      <th>0</th>\n",
       "      <th>1</th>\n",
       "      <th>2</th>\n",
       "      <th>3</th>\n",
       "      <th>4</th>\n",
       "    </tr>\n",
       "  </thead>\n",
       "  <tbody>\n",
       "    <tr>\n",
       "      <th>customerID</th>\n",
       "      <td>7590-VHVEG</td>\n",
       "      <td>5575-GNVDE</td>\n",
       "      <td>3668-QPYBK</td>\n",
       "      <td>7795-CFOCW</td>\n",
       "      <td>9237-HQITU</td>\n",
       "    </tr>\n",
       "    <tr>\n",
       "      <th>gender</th>\n",
       "      <td>Female</td>\n",
       "      <td>Male</td>\n",
       "      <td>Male</td>\n",
       "      <td>Male</td>\n",
       "      <td>Female</td>\n",
       "    </tr>\n",
       "    <tr>\n",
       "      <th>SeniorCitizen</th>\n",
       "      <td>0</td>\n",
       "      <td>0</td>\n",
       "      <td>0</td>\n",
       "      <td>0</td>\n",
       "      <td>0</td>\n",
       "    </tr>\n",
       "    <tr>\n",
       "      <th>Partner</th>\n",
       "      <td>Yes</td>\n",
       "      <td>No</td>\n",
       "      <td>No</td>\n",
       "      <td>No</td>\n",
       "      <td>No</td>\n",
       "    </tr>\n",
       "    <tr>\n",
       "      <th>Dependents</th>\n",
       "      <td>No</td>\n",
       "      <td>No</td>\n",
       "      <td>No</td>\n",
       "      <td>No</td>\n",
       "      <td>No</td>\n",
       "    </tr>\n",
       "    <tr>\n",
       "      <th>tenure</th>\n",
       "      <td>1</td>\n",
       "      <td>34</td>\n",
       "      <td>2</td>\n",
       "      <td>45</td>\n",
       "      <td>2</td>\n",
       "    </tr>\n",
       "    <tr>\n",
       "      <th>PhoneService</th>\n",
       "      <td>No</td>\n",
       "      <td>Yes</td>\n",
       "      <td>Yes</td>\n",
       "      <td>No</td>\n",
       "      <td>Yes</td>\n",
       "    </tr>\n",
       "    <tr>\n",
       "      <th>MultipleLines</th>\n",
       "      <td>No phone service</td>\n",
       "      <td>No</td>\n",
       "      <td>No</td>\n",
       "      <td>No phone service</td>\n",
       "      <td>No</td>\n",
       "    </tr>\n",
       "    <tr>\n",
       "      <th>InternetService</th>\n",
       "      <td>DSL</td>\n",
       "      <td>DSL</td>\n",
       "      <td>DSL</td>\n",
       "      <td>DSL</td>\n",
       "      <td>Fiber optic</td>\n",
       "    </tr>\n",
       "    <tr>\n",
       "      <th>OnlineSecurity</th>\n",
       "      <td>No</td>\n",
       "      <td>Yes</td>\n",
       "      <td>Yes</td>\n",
       "      <td>Yes</td>\n",
       "      <td>No</td>\n",
       "    </tr>\n",
       "    <tr>\n",
       "      <th>OnlineBackup</th>\n",
       "      <td>Yes</td>\n",
       "      <td>No</td>\n",
       "      <td>Yes</td>\n",
       "      <td>No</td>\n",
       "      <td>No</td>\n",
       "    </tr>\n",
       "    <tr>\n",
       "      <th>DeviceProtection</th>\n",
       "      <td>No</td>\n",
       "      <td>Yes</td>\n",
       "      <td>No</td>\n",
       "      <td>Yes</td>\n",
       "      <td>No</td>\n",
       "    </tr>\n",
       "    <tr>\n",
       "      <th>TechSupport</th>\n",
       "      <td>No</td>\n",
       "      <td>No</td>\n",
       "      <td>No</td>\n",
       "      <td>Yes</td>\n",
       "      <td>No</td>\n",
       "    </tr>\n",
       "    <tr>\n",
       "      <th>StreamingTV</th>\n",
       "      <td>No</td>\n",
       "      <td>No</td>\n",
       "      <td>No</td>\n",
       "      <td>No</td>\n",
       "      <td>No</td>\n",
       "    </tr>\n",
       "    <tr>\n",
       "      <th>StreamingMovies</th>\n",
       "      <td>No</td>\n",
       "      <td>No</td>\n",
       "      <td>No</td>\n",
       "      <td>No</td>\n",
       "      <td>No</td>\n",
       "    </tr>\n",
       "    <tr>\n",
       "      <th>Contract</th>\n",
       "      <td>Month-to-month</td>\n",
       "      <td>One year</td>\n",
       "      <td>Month-to-month</td>\n",
       "      <td>One year</td>\n",
       "      <td>Month-to-month</td>\n",
       "    </tr>\n",
       "    <tr>\n",
       "      <th>PaperlessBilling</th>\n",
       "      <td>Yes</td>\n",
       "      <td>No</td>\n",
       "      <td>Yes</td>\n",
       "      <td>No</td>\n",
       "      <td>Yes</td>\n",
       "    </tr>\n",
       "    <tr>\n",
       "      <th>PaymentMethod</th>\n",
       "      <td>Electronic check</td>\n",
       "      <td>Mailed check</td>\n",
       "      <td>Mailed check</td>\n",
       "      <td>Bank transfer (automatic)</td>\n",
       "      <td>Electronic check</td>\n",
       "    </tr>\n",
       "    <tr>\n",
       "      <th>MonthlyCharges</th>\n",
       "      <td>29.85</td>\n",
       "      <td>56.95</td>\n",
       "      <td>53.85</td>\n",
       "      <td>42.3</td>\n",
       "      <td>70.7</td>\n",
       "    </tr>\n",
       "    <tr>\n",
       "      <th>TotalCharges</th>\n",
       "      <td>29.85</td>\n",
       "      <td>1889.5</td>\n",
       "      <td>108.15</td>\n",
       "      <td>1840.75</td>\n",
       "      <td>151.65</td>\n",
       "    </tr>\n",
       "    <tr>\n",
       "      <th>Churn</th>\n",
       "      <td>No</td>\n",
       "      <td>No</td>\n",
       "      <td>Yes</td>\n",
       "      <td>No</td>\n",
       "      <td>Yes</td>\n",
       "    </tr>\n",
       "  </tbody>\n",
       "</table>\n",
       "</div>"
      ],
      "text/plain": [
       "                                 0             1               2  \\\n",
       "customerID              7590-VHVEG    5575-GNVDE      3668-QPYBK   \n",
       "gender                      Female          Male            Male   \n",
       "SeniorCitizen                    0             0               0   \n",
       "Partner                        Yes            No              No   \n",
       "Dependents                      No            No              No   \n",
       "tenure                           1            34               2   \n",
       "PhoneService                    No           Yes             Yes   \n",
       "MultipleLines     No phone service            No              No   \n",
       "InternetService                DSL           DSL             DSL   \n",
       "OnlineSecurity                  No           Yes             Yes   \n",
       "OnlineBackup                   Yes            No             Yes   \n",
       "DeviceProtection                No           Yes              No   \n",
       "TechSupport                     No            No              No   \n",
       "StreamingTV                     No            No              No   \n",
       "StreamingMovies                 No            No              No   \n",
       "Contract            Month-to-month      One year  Month-to-month   \n",
       "PaperlessBilling               Yes            No             Yes   \n",
       "PaymentMethod     Electronic check  Mailed check    Mailed check   \n",
       "MonthlyCharges               29.85         56.95           53.85   \n",
       "TotalCharges                 29.85        1889.5          108.15   \n",
       "Churn                           No            No             Yes   \n",
       "\n",
       "                                          3                 4  \n",
       "customerID                       7795-CFOCW        9237-HQITU  \n",
       "gender                                 Male            Female  \n",
       "SeniorCitizen                             0                 0  \n",
       "Partner                                  No                No  \n",
       "Dependents                               No                No  \n",
       "tenure                                   45                 2  \n",
       "PhoneService                             No               Yes  \n",
       "MultipleLines              No phone service                No  \n",
       "InternetService                         DSL       Fiber optic  \n",
       "OnlineSecurity                          Yes                No  \n",
       "OnlineBackup                             No                No  \n",
       "DeviceProtection                        Yes                No  \n",
       "TechSupport                             Yes                No  \n",
       "StreamingTV                              No                No  \n",
       "StreamingMovies                          No                No  \n",
       "Contract                           One year    Month-to-month  \n",
       "PaperlessBilling                         No               Yes  \n",
       "PaymentMethod     Bank transfer (automatic)  Electronic check  \n",
       "MonthlyCharges                         42.3              70.7  \n",
       "TotalCharges                        1840.75            151.65  \n",
       "Churn                                    No               Yes  "
      ]
     },
     "execution_count": 77,
     "metadata": {},
     "output_type": "execute_result"
    }
   ],
   "source": [
    "df = pd.read_csv('Dataset_Chew Hock Boon.csv')\n",
    "df.head().T"
   ]
  },
  {
   "cell_type": "code",
   "execution_count": 76,
   "metadata": {},
   "outputs": [
    {
     "data": {
      "text/plain": [
       "(7043, 21)"
      ]
     },
     "execution_count": 76,
     "metadata": {},
     "output_type": "execute_result"
    }
   ],
   "source": [
    "df.shape"
   ]
  },
  {
   "cell_type": "markdown",
   "metadata": {},
   "source": [
    "There are 7043 rows and 21 features in our dataset. Check for any duplicate data."
   ]
  },
  {
   "cell_type": "code",
   "execution_count": 4,
   "metadata": {},
   "outputs": [
    {
     "name": "stdout",
     "output_type": "stream",
     "text": [
      "Duplicated data: 0\n"
     ]
    }
   ],
   "source": [
    "print('Duplicated data:', df.duplicated().sum())"
   ]
  },
  {
   "cell_type": "markdown",
   "metadata": {},
   "source": [
    "There are no duplicated data in the dataset. We will drop \"customerID\" from the dataset since it does not provide any useful information."
   ]
  },
  {
   "cell_type": "code",
   "execution_count": 5,
   "metadata": {},
   "outputs": [
    {
     "data": {
      "text/plain": [
       "(7043, 20)"
      ]
     },
     "execution_count": 5,
     "metadata": {},
     "output_type": "execute_result"
    }
   ],
   "source": [
    "df.drop('customerID', axis=1, inplace=True)\n",
    "df.shape"
   ]
  },
  {
   "cell_type": "markdown",
   "metadata": {},
   "source": [
    "Check for any missing values."
   ]
  },
  {
   "cell_type": "code",
   "execution_count": 6,
   "metadata": {},
   "outputs": [
    {
     "data": {
      "text/plain": [
       "gender              0\n",
       "SeniorCitizen       0\n",
       "Partner             0\n",
       "Dependents          0\n",
       "tenure              0\n",
       "PhoneService        0\n",
       "MultipleLines       0\n",
       "InternetService     0\n",
       "OnlineSecurity      0\n",
       "OnlineBackup        0\n",
       "DeviceProtection    0\n",
       "TechSupport         0\n",
       "StreamingTV         0\n",
       "StreamingMovies     0\n",
       "Contract            0\n",
       "PaperlessBilling    0\n",
       "PaymentMethod       0\n",
       "MonthlyCharges      0\n",
       "TotalCharges        0\n",
       "Churn               0\n",
       "dtype: int64"
      ]
     },
     "execution_count": 6,
     "metadata": {},
     "output_type": "execute_result"
    }
   ],
   "source": [
    "df.isnull().sum()"
   ]
  },
  {
   "cell_type": "markdown",
   "metadata": {},
   "source": [
    "There are no missing values in the dataset.\n",
    "\n",
    "Take a look at the data type of each feature."
   ]
  },
  {
   "cell_type": "code",
   "execution_count": 7,
   "metadata": {},
   "outputs": [
    {
     "name": "stdout",
     "output_type": "stream",
     "text": [
      "<class 'pandas.core.frame.DataFrame'>\n",
      "RangeIndex: 7043 entries, 0 to 7042\n",
      "Data columns (total 20 columns):\n",
      " #   Column            Non-Null Count  Dtype  \n",
      "---  ------            --------------  -----  \n",
      " 0   gender            7043 non-null   object \n",
      " 1   SeniorCitizen     7043 non-null   int64  \n",
      " 2   Partner           7043 non-null   object \n",
      " 3   Dependents        7043 non-null   object \n",
      " 4   tenure            7043 non-null   int64  \n",
      " 5   PhoneService      7043 non-null   object \n",
      " 6   MultipleLines     7043 non-null   object \n",
      " 7   InternetService   7043 non-null   object \n",
      " 8   OnlineSecurity    7043 non-null   object \n",
      " 9   OnlineBackup      7043 non-null   object \n",
      " 10  DeviceProtection  7043 non-null   object \n",
      " 11  TechSupport       7043 non-null   object \n",
      " 12  StreamingTV       7043 non-null   object \n",
      " 13  StreamingMovies   7043 non-null   object \n",
      " 14  Contract          7043 non-null   object \n",
      " 15  PaperlessBilling  7043 non-null   object \n",
      " 16  PaymentMethod     7043 non-null   object \n",
      " 17  MonthlyCharges    7043 non-null   float64\n",
      " 18  TotalCharges      7043 non-null   object \n",
      " 19  Churn             7043 non-null   object \n",
      "dtypes: float64(1), int64(2), object(17)\n",
      "memory usage: 1.1+ MB\n"
     ]
    }
   ],
   "source": [
    "df.info()"
   ]
  },
  {
   "cell_type": "markdown",
   "metadata": {},
   "source": [
    "Convert \"TotalCharges\" from \"object\" to \"float\"."
   ]
  },
  {
   "cell_type": "code",
   "execution_count": 8,
   "metadata": {},
   "outputs": [],
   "source": [
    "# df.TotalCharges.astype(float)\n",
    "# df.TotalCharges.dtype"
   ]
  },
  {
   "cell_type": "markdown",
   "metadata": {},
   "source": [
    "Seems like we have unexpected missing values (' ') in \"TotalCharges\". Let see if there are any more unexpected missing values in other \"object\" features.\n"
   ]
  },
  {
   "cell_type": "code",
   "execution_count": 9,
   "metadata": {},
   "outputs": [
    {
     "name": "stdout",
     "output_type": "stream",
     "text": [
      "gender : ['Female' 'Male']\n",
      "Partner : ['Yes' 'No']\n",
      "Dependents : ['No' 'Yes']\n",
      "PhoneService : ['No' 'Yes']\n",
      "MultipleLines : ['No phone service' 'No' 'Yes']\n",
      "InternetService : ['DSL' 'Fiber optic' 'No']\n",
      "OnlineSecurity : ['No' 'Yes' 'No internet service']\n",
      "OnlineBackup : ['Yes' 'No' 'No internet service']\n",
      "DeviceProtection : ['No' 'Yes' 'No internet service']\n",
      "TechSupport : ['No' 'Yes' 'No internet service']\n",
      "StreamingTV : ['No' 'Yes' 'No internet service']\n",
      "StreamingMovies : ['No' 'Yes' 'No internet service']\n",
      "Contract : ['Month-to-month' 'One year' 'Two year']\n",
      "PaperlessBilling : ['Yes' 'No']\n",
      "PaymentMethod : ['Electronic check' 'Mailed check' 'Bank transfer (automatic)'\n",
      " 'Credit card (automatic)']\n",
      "Churn : ['No' 'Yes']\n"
     ]
    }
   ],
   "source": [
    "for item in df.columns:\n",
    "    if df[item].dtype == 'object':\n",
    "        if item != 'TotalCharges':      # skip 'TotalCharges' since we already know there are unexpected missing values\n",
    "            print(item, ':', df[item].unique())"
   ]
  },
  {
   "cell_type": "markdown",
   "metadata": {},
   "source": [
    "There are no unexpected missing values in other \"object\" features. Now take a look at those data that contain the missing values (' ')."
   ]
  },
  {
   "cell_type": "code",
   "execution_count": 10,
   "metadata": {},
   "outputs": [
    {
     "data": {
      "text/html": [
       "<div>\n",
       "<style scoped>\n",
       "    .dataframe tbody tr th:only-of-type {\n",
       "        vertical-align: middle;\n",
       "    }\n",
       "\n",
       "    .dataframe tbody tr th {\n",
       "        vertical-align: top;\n",
       "    }\n",
       "\n",
       "    .dataframe thead th {\n",
       "        text-align: right;\n",
       "    }\n",
       "</style>\n",
       "<table border=\"1\" class=\"dataframe\">\n",
       "  <thead>\n",
       "    <tr style=\"text-align: right;\">\n",
       "      <th></th>\n",
       "      <th>488</th>\n",
       "      <th>753</th>\n",
       "      <th>936</th>\n",
       "      <th>1082</th>\n",
       "      <th>1340</th>\n",
       "      <th>3331</th>\n",
       "      <th>3826</th>\n",
       "      <th>4380</th>\n",
       "      <th>5218</th>\n",
       "      <th>6670</th>\n",
       "      <th>6754</th>\n",
       "    </tr>\n",
       "  </thead>\n",
       "  <tbody>\n",
       "    <tr>\n",
       "      <th>gender</th>\n",
       "      <td>Female</td>\n",
       "      <td>Male</td>\n",
       "      <td>Female</td>\n",
       "      <td>Male</td>\n",
       "      <td>Female</td>\n",
       "      <td>Male</td>\n",
       "      <td>Male</td>\n",
       "      <td>Female</td>\n",
       "      <td>Male</td>\n",
       "      <td>Female</td>\n",
       "      <td>Male</td>\n",
       "    </tr>\n",
       "    <tr>\n",
       "      <th>SeniorCitizen</th>\n",
       "      <td>0</td>\n",
       "      <td>0</td>\n",
       "      <td>0</td>\n",
       "      <td>0</td>\n",
       "      <td>0</td>\n",
       "      <td>0</td>\n",
       "      <td>0</td>\n",
       "      <td>0</td>\n",
       "      <td>0</td>\n",
       "      <td>0</td>\n",
       "      <td>0</td>\n",
       "    </tr>\n",
       "    <tr>\n",
       "      <th>Partner</th>\n",
       "      <td>Yes</td>\n",
       "      <td>No</td>\n",
       "      <td>Yes</td>\n",
       "      <td>Yes</td>\n",
       "      <td>Yes</td>\n",
       "      <td>Yes</td>\n",
       "      <td>Yes</td>\n",
       "      <td>Yes</td>\n",
       "      <td>Yes</td>\n",
       "      <td>Yes</td>\n",
       "      <td>No</td>\n",
       "    </tr>\n",
       "    <tr>\n",
       "      <th>Dependents</th>\n",
       "      <td>Yes</td>\n",
       "      <td>Yes</td>\n",
       "      <td>Yes</td>\n",
       "      <td>Yes</td>\n",
       "      <td>Yes</td>\n",
       "      <td>Yes</td>\n",
       "      <td>Yes</td>\n",
       "      <td>Yes</td>\n",
       "      <td>Yes</td>\n",
       "      <td>Yes</td>\n",
       "      <td>Yes</td>\n",
       "    </tr>\n",
       "    <tr>\n",
       "      <th>tenure</th>\n",
       "      <td>0</td>\n",
       "      <td>0</td>\n",
       "      <td>0</td>\n",
       "      <td>0</td>\n",
       "      <td>0</td>\n",
       "      <td>0</td>\n",
       "      <td>0</td>\n",
       "      <td>0</td>\n",
       "      <td>0</td>\n",
       "      <td>0</td>\n",
       "      <td>0</td>\n",
       "    </tr>\n",
       "    <tr>\n",
       "      <th>PhoneService</th>\n",
       "      <td>No</td>\n",
       "      <td>Yes</td>\n",
       "      <td>Yes</td>\n",
       "      <td>Yes</td>\n",
       "      <td>No</td>\n",
       "      <td>Yes</td>\n",
       "      <td>Yes</td>\n",
       "      <td>Yes</td>\n",
       "      <td>Yes</td>\n",
       "      <td>Yes</td>\n",
       "      <td>Yes</td>\n",
       "    </tr>\n",
       "    <tr>\n",
       "      <th>MultipleLines</th>\n",
       "      <td>No phone service</td>\n",
       "      <td>No</td>\n",
       "      <td>No</td>\n",
       "      <td>Yes</td>\n",
       "      <td>No phone service</td>\n",
       "      <td>No</td>\n",
       "      <td>Yes</td>\n",
       "      <td>No</td>\n",
       "      <td>No</td>\n",
       "      <td>Yes</td>\n",
       "      <td>Yes</td>\n",
       "    </tr>\n",
       "    <tr>\n",
       "      <th>InternetService</th>\n",
       "      <td>DSL</td>\n",
       "      <td>No</td>\n",
       "      <td>DSL</td>\n",
       "      <td>No</td>\n",
       "      <td>DSL</td>\n",
       "      <td>No</td>\n",
       "      <td>No</td>\n",
       "      <td>No</td>\n",
       "      <td>No</td>\n",
       "      <td>DSL</td>\n",
       "      <td>DSL</td>\n",
       "    </tr>\n",
       "    <tr>\n",
       "      <th>OnlineSecurity</th>\n",
       "      <td>Yes</td>\n",
       "      <td>No internet service</td>\n",
       "      <td>Yes</td>\n",
       "      <td>No internet service</td>\n",
       "      <td>Yes</td>\n",
       "      <td>No internet service</td>\n",
       "      <td>No internet service</td>\n",
       "      <td>No internet service</td>\n",
       "      <td>No internet service</td>\n",
       "      <td>No</td>\n",
       "      <td>Yes</td>\n",
       "    </tr>\n",
       "    <tr>\n",
       "      <th>OnlineBackup</th>\n",
       "      <td>No</td>\n",
       "      <td>No internet service</td>\n",
       "      <td>Yes</td>\n",
       "      <td>No internet service</td>\n",
       "      <td>Yes</td>\n",
       "      <td>No internet service</td>\n",
       "      <td>No internet service</td>\n",
       "      <td>No internet service</td>\n",
       "      <td>No internet service</td>\n",
       "      <td>Yes</td>\n",
       "      <td>Yes</td>\n",
       "    </tr>\n",
       "    <tr>\n",
       "      <th>DeviceProtection</th>\n",
       "      <td>Yes</td>\n",
       "      <td>No internet service</td>\n",
       "      <td>Yes</td>\n",
       "      <td>No internet service</td>\n",
       "      <td>Yes</td>\n",
       "      <td>No internet service</td>\n",
       "      <td>No internet service</td>\n",
       "      <td>No internet service</td>\n",
       "      <td>No internet service</td>\n",
       "      <td>Yes</td>\n",
       "      <td>No</td>\n",
       "    </tr>\n",
       "    <tr>\n",
       "      <th>TechSupport</th>\n",
       "      <td>Yes</td>\n",
       "      <td>No internet service</td>\n",
       "      <td>No</td>\n",
       "      <td>No internet service</td>\n",
       "      <td>Yes</td>\n",
       "      <td>No internet service</td>\n",
       "      <td>No internet service</td>\n",
       "      <td>No internet service</td>\n",
       "      <td>No internet service</td>\n",
       "      <td>Yes</td>\n",
       "      <td>Yes</td>\n",
       "    </tr>\n",
       "    <tr>\n",
       "      <th>StreamingTV</th>\n",
       "      <td>Yes</td>\n",
       "      <td>No internet service</td>\n",
       "      <td>Yes</td>\n",
       "      <td>No internet service</td>\n",
       "      <td>Yes</td>\n",
       "      <td>No internet service</td>\n",
       "      <td>No internet service</td>\n",
       "      <td>No internet service</td>\n",
       "      <td>No internet service</td>\n",
       "      <td>Yes</td>\n",
       "      <td>No</td>\n",
       "    </tr>\n",
       "    <tr>\n",
       "      <th>StreamingMovies</th>\n",
       "      <td>No</td>\n",
       "      <td>No internet service</td>\n",
       "      <td>Yes</td>\n",
       "      <td>No internet service</td>\n",
       "      <td>No</td>\n",
       "      <td>No internet service</td>\n",
       "      <td>No internet service</td>\n",
       "      <td>No internet service</td>\n",
       "      <td>No internet service</td>\n",
       "      <td>No</td>\n",
       "      <td>No</td>\n",
       "    </tr>\n",
       "    <tr>\n",
       "      <th>Contract</th>\n",
       "      <td>Two year</td>\n",
       "      <td>Two year</td>\n",
       "      <td>Two year</td>\n",
       "      <td>Two year</td>\n",
       "      <td>Two year</td>\n",
       "      <td>Two year</td>\n",
       "      <td>Two year</td>\n",
       "      <td>Two year</td>\n",
       "      <td>One year</td>\n",
       "      <td>Two year</td>\n",
       "      <td>Two year</td>\n",
       "    </tr>\n",
       "    <tr>\n",
       "      <th>PaperlessBilling</th>\n",
       "      <td>Yes</td>\n",
       "      <td>No</td>\n",
       "      <td>No</td>\n",
       "      <td>No</td>\n",
       "      <td>No</td>\n",
       "      <td>No</td>\n",
       "      <td>No</td>\n",
       "      <td>No</td>\n",
       "      <td>Yes</td>\n",
       "      <td>No</td>\n",
       "      <td>Yes</td>\n",
       "    </tr>\n",
       "    <tr>\n",
       "      <th>PaymentMethod</th>\n",
       "      <td>Bank transfer (automatic)</td>\n",
       "      <td>Mailed check</td>\n",
       "      <td>Mailed check</td>\n",
       "      <td>Mailed check</td>\n",
       "      <td>Credit card (automatic)</td>\n",
       "      <td>Mailed check</td>\n",
       "      <td>Mailed check</td>\n",
       "      <td>Mailed check</td>\n",
       "      <td>Mailed check</td>\n",
       "      <td>Mailed check</td>\n",
       "      <td>Bank transfer (automatic)</td>\n",
       "    </tr>\n",
       "    <tr>\n",
       "      <th>MonthlyCharges</th>\n",
       "      <td>52.55</td>\n",
       "      <td>20.25</td>\n",
       "      <td>80.85</td>\n",
       "      <td>25.75</td>\n",
       "      <td>56.05</td>\n",
       "      <td>19.85</td>\n",
       "      <td>25.35</td>\n",
       "      <td>20</td>\n",
       "      <td>19.7</td>\n",
       "      <td>73.35</td>\n",
       "      <td>61.9</td>\n",
       "    </tr>\n",
       "    <tr>\n",
       "      <th>TotalCharges</th>\n",
       "      <td></td>\n",
       "      <td></td>\n",
       "      <td></td>\n",
       "      <td></td>\n",
       "      <td></td>\n",
       "      <td></td>\n",
       "      <td></td>\n",
       "      <td></td>\n",
       "      <td></td>\n",
       "      <td></td>\n",
       "      <td></td>\n",
       "    </tr>\n",
       "    <tr>\n",
       "      <th>Churn</th>\n",
       "      <td>No</td>\n",
       "      <td>No</td>\n",
       "      <td>No</td>\n",
       "      <td>No</td>\n",
       "      <td>No</td>\n",
       "      <td>No</td>\n",
       "      <td>No</td>\n",
       "      <td>No</td>\n",
       "      <td>No</td>\n",
       "      <td>No</td>\n",
       "      <td>No</td>\n",
       "    </tr>\n",
       "  </tbody>\n",
       "</table>\n",
       "</div>"
      ],
      "text/plain": [
       "                                       488                  753   \\\n",
       "gender                               Female                 Male   \n",
       "SeniorCitizen                             0                    0   \n",
       "Partner                                 Yes                   No   \n",
       "Dependents                              Yes                  Yes   \n",
       "tenure                                    0                    0   \n",
       "PhoneService                             No                  Yes   \n",
       "MultipleLines              No phone service                   No   \n",
       "InternetService                         DSL                   No   \n",
       "OnlineSecurity                          Yes  No internet service   \n",
       "OnlineBackup                             No  No internet service   \n",
       "DeviceProtection                        Yes  No internet service   \n",
       "TechSupport                             Yes  No internet service   \n",
       "StreamingTV                             Yes  No internet service   \n",
       "StreamingMovies                          No  No internet service   \n",
       "Contract                           Two year             Two year   \n",
       "PaperlessBilling                        Yes                   No   \n",
       "PaymentMethod     Bank transfer (automatic)         Mailed check   \n",
       "MonthlyCharges                        52.55                20.25   \n",
       "TotalCharges                                                       \n",
       "Churn                                    No                   No   \n",
       "\n",
       "                          936                  1082                     1340  \\\n",
       "gender                  Female                 Male                   Female   \n",
       "SeniorCitizen                0                    0                        0   \n",
       "Partner                    Yes                  Yes                      Yes   \n",
       "Dependents                 Yes                  Yes                      Yes   \n",
       "tenure                       0                    0                        0   \n",
       "PhoneService               Yes                  Yes                       No   \n",
       "MultipleLines               No                  Yes         No phone service   \n",
       "InternetService            DSL                   No                      DSL   \n",
       "OnlineSecurity             Yes  No internet service                      Yes   \n",
       "OnlineBackup               Yes  No internet service                      Yes   \n",
       "DeviceProtection           Yes  No internet service                      Yes   \n",
       "TechSupport                 No  No internet service                      Yes   \n",
       "StreamingTV                Yes  No internet service                      Yes   \n",
       "StreamingMovies            Yes  No internet service                       No   \n",
       "Contract              Two year             Two year                 Two year   \n",
       "PaperlessBilling            No                   No                       No   \n",
       "PaymentMethod     Mailed check         Mailed check  Credit card (automatic)   \n",
       "MonthlyCharges           80.85                25.75                    56.05   \n",
       "TotalCharges                                                                   \n",
       "Churn                       No                   No                       No   \n",
       "\n",
       "                                 3331                 3826  \\\n",
       "gender                           Male                 Male   \n",
       "SeniorCitizen                       0                    0   \n",
       "Partner                           Yes                  Yes   \n",
       "Dependents                        Yes                  Yes   \n",
       "tenure                              0                    0   \n",
       "PhoneService                      Yes                  Yes   \n",
       "MultipleLines                      No                  Yes   \n",
       "InternetService                    No                   No   \n",
       "OnlineSecurity    No internet service  No internet service   \n",
       "OnlineBackup      No internet service  No internet service   \n",
       "DeviceProtection  No internet service  No internet service   \n",
       "TechSupport       No internet service  No internet service   \n",
       "StreamingTV       No internet service  No internet service   \n",
       "StreamingMovies   No internet service  No internet service   \n",
       "Contract                     Two year             Two year   \n",
       "PaperlessBilling                   No                   No   \n",
       "PaymentMethod            Mailed check         Mailed check   \n",
       "MonthlyCharges                  19.85                25.35   \n",
       "TotalCharges                                                 \n",
       "Churn                              No                   No   \n",
       "\n",
       "                                 4380                 5218          6670  \\\n",
       "gender                         Female                 Male        Female   \n",
       "SeniorCitizen                       0                    0             0   \n",
       "Partner                           Yes                  Yes           Yes   \n",
       "Dependents                        Yes                  Yes           Yes   \n",
       "tenure                              0                    0             0   \n",
       "PhoneService                      Yes                  Yes           Yes   \n",
       "MultipleLines                      No                   No           Yes   \n",
       "InternetService                    No                   No           DSL   \n",
       "OnlineSecurity    No internet service  No internet service            No   \n",
       "OnlineBackup      No internet service  No internet service           Yes   \n",
       "DeviceProtection  No internet service  No internet service           Yes   \n",
       "TechSupport       No internet service  No internet service           Yes   \n",
       "StreamingTV       No internet service  No internet service           Yes   \n",
       "StreamingMovies   No internet service  No internet service            No   \n",
       "Contract                     Two year             One year      Two year   \n",
       "PaperlessBilling                   No                  Yes            No   \n",
       "PaymentMethod            Mailed check         Mailed check  Mailed check   \n",
       "MonthlyCharges                     20                 19.7         73.35   \n",
       "TotalCharges                                                               \n",
       "Churn                              No                   No            No   \n",
       "\n",
       "                                       6754  \n",
       "gender                                 Male  \n",
       "SeniorCitizen                             0  \n",
       "Partner                                  No  \n",
       "Dependents                              Yes  \n",
       "tenure                                    0  \n",
       "PhoneService                            Yes  \n",
       "MultipleLines                           Yes  \n",
       "InternetService                         DSL  \n",
       "OnlineSecurity                          Yes  \n",
       "OnlineBackup                            Yes  \n",
       "DeviceProtection                         No  \n",
       "TechSupport                             Yes  \n",
       "StreamingTV                              No  \n",
       "StreamingMovies                          No  \n",
       "Contract                           Two year  \n",
       "PaperlessBilling                        Yes  \n",
       "PaymentMethod     Bank transfer (automatic)  \n",
       "MonthlyCharges                         61.9  \n",
       "TotalCharges                                 \n",
       "Churn                                    No  "
      ]
     },
     "execution_count": 10,
     "metadata": {},
     "output_type": "execute_result"
    }
   ],
   "source": [
    "error = df.loc[df.TotalCharges == ' ']\n",
    "error.T"
   ]
  },
  {
   "cell_type": "code",
   "execution_count": 11,
   "metadata": {},
   "outputs": [
    {
     "data": {
      "text/plain": [
       "(11, 20)"
      ]
     },
     "execution_count": 11,
     "metadata": {},
     "output_type": "execute_result"
    }
   ],
   "source": [
    "error.shape"
   ]
  },
  {
   "cell_type": "markdown",
   "metadata": {},
   "source": [
    "The feature \"tenure\" is all 0 which means all these data are new customers that is last then 1 month with the company. This explain why their \"TotalCharges\" are empty. Since there are only 11 rows out of the total dataset (7043 rows) and they are all under contract, we can just removed them from our dataset. "
   ]
  },
  {
   "cell_type": "code",
   "execution_count": 12,
   "metadata": {},
   "outputs": [
    {
     "data": {
      "text/plain": [
       "(7032, 20)"
      ]
     },
     "execution_count": 12,
     "metadata": {},
     "output_type": "execute_result"
    }
   ],
   "source": [
    "df.drop(error.index, inplace=True)\n",
    "df.shape"
   ]
  },
  {
   "cell_type": "markdown",
   "metadata": {},
   "source": [
    "Now convert \"TotalCharges\"."
   ]
  },
  {
   "cell_type": "code",
   "execution_count": 13,
   "metadata": {},
   "outputs": [
    {
     "data": {
      "text/plain": [
       "dtype('float64')"
      ]
     },
     "execution_count": 13,
     "metadata": {},
     "output_type": "execute_result"
    }
   ],
   "source": [
    "df.TotalCharges = df.TotalCharges.astype(float)\n",
    "df.TotalCharges.dtype"
   ]
  },
  {
   "cell_type": "markdown",
   "metadata": {},
   "source": [
    "Take a look at the number of customers that stay or churn in each categorical feature."
   ]
  },
  {
   "cell_type": "code",
   "execution_count": 14,
   "metadata": {},
   "outputs": [],
   "source": [
    "cat_features = df.select_dtypes(include='object').columns"
   ]
  },
  {
   "cell_type": "code",
   "execution_count": 15,
   "metadata": {},
   "outputs": [
    {
     "data": {
      "image/png": "[encoded data removed]",
      "text/plain": [
       "<Figure size 1440x720 with 15 Axes>"
      ]
     },
     "metadata": {
      "needs_background": "light"
     },
     "output_type": "display_data"
    }
   ],
   "source": [
    "fig, axes = plt.subplots(nrows=3, ncols=5, figsize=(20,10))\n",
    "\n",
    "for item, ax in zip(cat_features, axes.flatten()):\n",
    "    if item != 'Churn':\n",
    "        chart = sns.countplot(x=df[item], data=df, hue='Churn', ax=ax)\n",
    "        chart.set_xticklabels(chart.get_xticklabels(), rotation=45)\n",
    "        chart.set(xlabel=None)\n",
    "        chart.set_title(item)\n",
    "plt.tight_layout()\n",
    "plt.savefig('count.png')"
   ]
  },
  {
   "cell_type": "markdown",
   "metadata": {},
   "source": [
    "Seems like there are some interesting insight from the count plot above:\n",
    "- Gender does not affect whether the customer stay or churn - almost the same.\n",
    "- Customers with partner and dependents tend to stay with the company - one payment for all?\n",
    "- Customers with phone service churn more regardless of single or multiple line - prices?\n",
    "- Customers using fiber optic churn more - again prices?\n",
    "- Customers without online sercurity, online backup, device protection and tech support churn more - higher premium for these services?\n",
    "- Having streaming package or not does not affect much to the rate of churn - almost the same.\n",
    "- Customers without contract churn the most - **NEED TO TIE THEM DOWN!!!**\n",
    "- Customers having paperless billing tend to churn more - mostly tech savvy so more easily to compare prices and services online. Younger generation?\n",
    "- Customers using electronics check payment churn more than those using other payment methods - more troublesome?\n",
    "\n",
    "Check for any outliers in \"tenure\", \"MonthlyCharges\" and \"TotalCharges\"."
   ]
  },
  {
   "cell_type": "code",
   "execution_count": 16,
   "metadata": {
    "scrolled": false
   },
   "outputs": [
    {
     "data": {
      "text/plain": [
       "<AxesSubplot:xlabel='TotalCharges'>"
      ]
     },
     "execution_count": 16,
     "metadata": {},
     "output_type": "execute_result"
    },
    {
     "data": {
      "image/png": "[encoded data removed]",
      "text/plain": [
       "<Figure size 1800x360 with 3 Axes>"
      ]
     },
     "metadata": {
      "needs_background": "light"
     },
     "output_type": "display_data"
    }
   ],
   "source": [
    "fig, axes =  plt.subplots(nrows=1, ncols=3, figsize=(25,5))\n",
    "sns.boxplot(x=df.tenure, data=df, ax=axes[0])\n",
    "sns.boxplot(x=df.MonthlyCharges, data=df, ax=axes[1])\n",
    "sns.boxplot(x=df.TotalCharges, data=df, ax=axes[2])"
   ]
  },
  {
   "cell_type": "markdown",
   "metadata": {},
   "source": [
    "No outliers found from the above boxplot."
   ]
  },
  {
   "cell_type": "markdown",
   "metadata": {},
   "source": [
    "Take a look at the distribution of \"Churn\"."
   ]
  },
  {
   "cell_type": "code",
   "execution_count": 17,
   "metadata": {},
   "outputs": [
    {
     "data": {
      "image/png": "[encoded data removed]",
      "text/plain": [
       "<Figure size 432x288 with 1 Axes>"
      ]
     },
     "metadata": {},
     "output_type": "display_data"
    }
   ],
   "source": [
    "plt.pie(x=df.Churn.value_counts(), explode=(0.1, 0), labels=['NO', 'YES'], autopct='%.1f%%', startangle=90, shadow=True,\n",
    "        colors=['lightblue','lightsteelblue'])\n",
    "plt.show()"
   ]
  },
  {
   "cell_type": "markdown",
   "metadata": {},
   "source": [
    "We have only 26.6% of rows that is \"YES\" (customers who churn). Our dataset is imbalanced."
   ]
  },
  {
   "cell_type": "markdown",
   "metadata": {},
   "source": [
    "### Data Preprocessing\n",
    "\n",
    "Split the dataset into X (features) and y (label)."
   ]
  },
  {
   "cell_type": "code",
   "execution_count": 18,
   "metadata": {},
   "outputs": [
    {
     "data": {
      "text/plain": [
       "Index(['gender', 'SeniorCitizen', 'Partner', 'Dependents', 'tenure',\n",
       "       'PhoneService', 'MultipleLines', 'InternetService', 'OnlineSecurity',\n",
       "       'OnlineBackup', 'DeviceProtection', 'TechSupport', 'StreamingTV',\n",
       "       'StreamingMovies', 'Contract', 'PaperlessBilling', 'PaymentMethod',\n",
       "       'MonthlyCharges', 'TotalCharges'],\n",
       "      dtype='object')"
      ]
     },
     "execution_count": 18,
     "metadata": {},
     "output_type": "execute_result"
    }
   ],
   "source": [
    "X = df.drop('Churn', axis=1)\n",
    "X.columns"
   ]
  },
  {
   "cell_type": "code",
   "execution_count": 19,
   "metadata": {},
   "outputs": [
    {
     "data": {
      "text/plain": [
       "0     No\n",
       "1     No\n",
       "2    Yes\n",
       "3     No\n",
       "4    Yes\n",
       "Name: Churn, dtype: object"
      ]
     },
     "execution_count": 19,
     "metadata": {},
     "output_type": "execute_result"
    }
   ],
   "source": [
    "y = df.Churn\n",
    "y.head()"
   ]
  },
  {
   "cell_type": "markdown",
   "metadata": {},
   "source": [
    "Convert categorical features to numerical features.\n",
    "- use dummies encoding for \"gender\", \"Partner\", \"Dependents\", \"PhoneService\" and \"PaperlessBilling\" as there are only 2 classes in these features."
   ]
  },
  {
   "cell_type": "code",
   "execution_count": 20,
   "metadata": {},
   "outputs": [
    {
     "data": {
      "text/html": [
       "<div>\n",
       "<style scoped>\n",
       "    .dataframe tbody tr th:only-of-type {\n",
       "        vertical-align: middle;\n",
       "    }\n",
       "\n",
       "    .dataframe tbody tr th {\n",
       "        vertical-align: top;\n",
       "    }\n",
       "\n",
       "    .dataframe thead th {\n",
       "        text-align: right;\n",
       "    }\n",
       "</style>\n",
       "<table border=\"1\" class=\"dataframe\">\n",
       "  <thead>\n",
       "    <tr style=\"text-align: right;\">\n",
       "      <th></th>\n",
       "      <th>0</th>\n",
       "      <th>1</th>\n",
       "      <th>2</th>\n",
       "      <th>3</th>\n",
       "      <th>4</th>\n",
       "    </tr>\n",
       "  </thead>\n",
       "  <tbody>\n",
       "    <tr>\n",
       "      <th>SeniorCitizen</th>\n",
       "      <td>0</td>\n",
       "      <td>0</td>\n",
       "      <td>0</td>\n",
       "      <td>0</td>\n",
       "      <td>0</td>\n",
       "    </tr>\n",
       "    <tr>\n",
       "      <th>tenure</th>\n",
       "      <td>1</td>\n",
       "      <td>34</td>\n",
       "      <td>2</td>\n",
       "      <td>45</td>\n",
       "      <td>2</td>\n",
       "    </tr>\n",
       "    <tr>\n",
       "      <th>MultipleLines</th>\n",
       "      <td>No phone service</td>\n",
       "      <td>No</td>\n",
       "      <td>No</td>\n",
       "      <td>No phone service</td>\n",
       "      <td>No</td>\n",
       "    </tr>\n",
       "    <tr>\n",
       "      <th>InternetService</th>\n",
       "      <td>DSL</td>\n",
       "      <td>DSL</td>\n",
       "      <td>DSL</td>\n",
       "      <td>DSL</td>\n",
       "      <td>Fiber optic</td>\n",
       "    </tr>\n",
       "    <tr>\n",
       "      <th>OnlineSecurity</th>\n",
       "      <td>No</td>\n",
       "      <td>Yes</td>\n",
       "      <td>Yes</td>\n",
       "      <td>Yes</td>\n",
       "      <td>No</td>\n",
       "    </tr>\n",
       "    <tr>\n",
       "      <th>OnlineBackup</th>\n",
       "      <td>Yes</td>\n",
       "      <td>No</td>\n",
       "      <td>Yes</td>\n",
       "      <td>No</td>\n",
       "      <td>No</td>\n",
       "    </tr>\n",
       "    <tr>\n",
       "      <th>DeviceProtection</th>\n",
       "      <td>No</td>\n",
       "      <td>Yes</td>\n",
       "      <td>No</td>\n",
       "      <td>Yes</td>\n",
       "      <td>No</td>\n",
       "    </tr>\n",
       "    <tr>\n",
       "      <th>TechSupport</th>\n",
       "      <td>No</td>\n",
       "      <td>No</td>\n",
       "      <td>No</td>\n",
       "      <td>Yes</td>\n",
       "      <td>No</td>\n",
       "    </tr>\n",
       "    <tr>\n",
       "      <th>StreamingTV</th>\n",
       "      <td>No</td>\n",
       "      <td>No</td>\n",
       "      <td>No</td>\n",
       "      <td>No</td>\n",
       "      <td>No</td>\n",
       "    </tr>\n",
       "    <tr>\n",
       "      <th>StreamingMovies</th>\n",
       "      <td>No</td>\n",
       "      <td>No</td>\n",
       "      <td>No</td>\n",
       "      <td>No</td>\n",
       "      <td>No</td>\n",
       "    </tr>\n",
       "    <tr>\n",
       "      <th>Contract</th>\n",
       "      <td>Month-to-month</td>\n",
       "      <td>One year</td>\n",
       "      <td>Month-to-month</td>\n",
       "      <td>One year</td>\n",
       "      <td>Month-to-month</td>\n",
       "    </tr>\n",
       "    <tr>\n",
       "      <th>PaymentMethod</th>\n",
       "      <td>Electronic check</td>\n",
       "      <td>Mailed check</td>\n",
       "      <td>Mailed check</td>\n",
       "      <td>Bank transfer (automatic)</td>\n",
       "      <td>Electronic check</td>\n",
       "    </tr>\n",
       "    <tr>\n",
       "      <th>MonthlyCharges</th>\n",
       "      <td>29.85</td>\n",
       "      <td>56.95</td>\n",
       "      <td>53.85</td>\n",
       "      <td>42.3</td>\n",
       "      <td>70.7</td>\n",
       "    </tr>\n",
       "    <tr>\n",
       "      <th>TotalCharges</th>\n",
       "      <td>29.85</td>\n",
       "      <td>1889.5</td>\n",
       "      <td>108.15</td>\n",
       "      <td>1840.75</td>\n",
       "      <td>151.65</td>\n",
       "    </tr>\n",
       "    <tr>\n",
       "      <th>gender_Male</th>\n",
       "      <td>0</td>\n",
       "      <td>1</td>\n",
       "      <td>1</td>\n",
       "      <td>1</td>\n",
       "      <td>0</td>\n",
       "    </tr>\n",
       "    <tr>\n",
       "      <th>Partner_Yes</th>\n",
       "      <td>1</td>\n",
       "      <td>0</td>\n",
       "      <td>0</td>\n",
       "      <td>0</td>\n",
       "      <td>0</td>\n",
       "    </tr>\n",
       "    <tr>\n",
       "      <th>Dependents_Yes</th>\n",
       "      <td>0</td>\n",
       "      <td>0</td>\n",
       "      <td>0</td>\n",
       "      <td>0</td>\n",
       "      <td>0</td>\n",
       "    </tr>\n",
       "    <tr>\n",
       "      <th>PhoneService_Yes</th>\n",
       "      <td>0</td>\n",
       "      <td>1</td>\n",
       "      <td>1</td>\n",
       "      <td>0</td>\n",
       "      <td>1</td>\n",
       "    </tr>\n",
       "    <tr>\n",
       "      <th>PaperlessBilling_Yes</th>\n",
       "      <td>1</td>\n",
       "      <td>0</td>\n",
       "      <td>1</td>\n",
       "      <td>0</td>\n",
       "      <td>1</td>\n",
       "    </tr>\n",
       "  </tbody>\n",
       "</table>\n",
       "</div>"
      ],
      "text/plain": [
       "                                     0             1               2  \\\n",
       "SeniorCitizen                        0             0               0   \n",
       "tenure                               1            34               2   \n",
       "MultipleLines         No phone service            No              No   \n",
       "InternetService                    DSL           DSL             DSL   \n",
       "OnlineSecurity                      No           Yes             Yes   \n",
       "OnlineBackup                       Yes            No             Yes   \n",
       "DeviceProtection                    No           Yes              No   \n",
       "TechSupport                         No            No              No   \n",
       "StreamingTV                         No            No              No   \n",
       "StreamingMovies                     No            No              No   \n",
       "Contract                Month-to-month      One year  Month-to-month   \n",
       "PaymentMethod         Electronic check  Mailed check    Mailed check   \n",
       "MonthlyCharges                   29.85         56.95           53.85   \n",
       "TotalCharges                     29.85        1889.5          108.15   \n",
       "gender_Male                          0             1               1   \n",
       "Partner_Yes                          1             0               0   \n",
       "Dependents_Yes                       0             0               0   \n",
       "PhoneService_Yes                     0             1               1   \n",
       "PaperlessBilling_Yes                 1             0               1   \n",
       "\n",
       "                                              3                 4  \n",
       "SeniorCitizen                                 0                 0  \n",
       "tenure                                       45                 2  \n",
       "MultipleLines                  No phone service                No  \n",
       "InternetService                             DSL       Fiber optic  \n",
       "OnlineSecurity                              Yes                No  \n",
       "OnlineBackup                                 No                No  \n",
       "DeviceProtection                            Yes                No  \n",
       "TechSupport                                 Yes                No  \n",
       "StreamingTV                                  No                No  \n",
       "StreamingMovies                              No                No  \n",
       "Contract                               One year    Month-to-month  \n",
       "PaymentMethod         Bank transfer (automatic)  Electronic check  \n",
       "MonthlyCharges                             42.3              70.7  \n",
       "TotalCharges                            1840.75            151.65  \n",
       "gender_Male                                   1                 0  \n",
       "Partner_Yes                                   0                 0  \n",
       "Dependents_Yes                                0                 0  \n",
       "PhoneService_Yes                              0                 1  \n",
       "PaperlessBilling_Yes                          0                 1  "
      ]
     },
     "execution_count": 20,
     "metadata": {},
     "output_type": "execute_result"
    }
   ],
   "source": [
    "X = pd.get_dummies(X, columns=[\"gender\", \"Partner\", \"Dependents\", \"PhoneService\", \"PaperlessBilling\"],\n",
    "                   drop_first=True)\n",
    "X.head().T"
   ]
  },
  {
   "cell_type": "markdown",
   "metadata": {},
   "source": [
    "- use ordinal encoding for \"Contract\" as we want to rank the classes."
   ]
  },
  {
   "cell_type": "code",
   "execution_count": 21,
   "metadata": {
    "scrolled": true
   },
   "outputs": [],
   "source": [
    "contract = [['Two year', 'One year', 'Month-to-month']]\n",
    "\n",
    "encoder = OrdinalEncoder(contract)\n",
    "\n",
    "X['contract'] = encoder.fit_transform(np.array(X.Contract).reshape(-1,1))\n"
   ]
  },
  {
   "cell_type": "code",
   "execution_count": 22,
   "metadata": {},
   "outputs": [
    {
     "data": {
      "text/plain": [
       "0    2.0\n",
       "1    1.0\n",
       "2    2.0\n",
       "3    1.0\n",
       "4    2.0\n",
       "Name: contract, dtype: float64"
      ]
     },
     "execution_count": 22,
     "metadata": {},
     "output_type": "execute_result"
    }
   ],
   "source": [
    "X.contract.head()"
   ]
  },
  {
   "cell_type": "markdown",
   "metadata": {},
   "source": [
    "- use frequency encoding for rest of the categorical features."
   ]
  },
  {
   "cell_type": "code",
   "execution_count": 23,
   "metadata": {},
   "outputs": [
    {
     "data": {
      "text/plain": [
       "Index(['MultipleLines', 'InternetService', 'OnlineSecurity', 'OnlineBackup',\n",
       "       'DeviceProtection', 'TechSupport', 'StreamingTV', 'StreamingMovies',\n",
       "       'Contract', 'PaymentMethod'],\n",
       "      dtype='object')"
      ]
     },
     "execution_count": 23,
     "metadata": {},
     "output_type": "execute_result"
    }
   ],
   "source": [
    "col_to_encode = X.select_dtypes(include='object').columns        # get the remaining  categorical features name\n",
    "col_to_encode"
   ]
  },
  {
   "cell_type": "code",
   "execution_count": 24,
   "metadata": {},
   "outputs": [
    {
     "data": {
      "text/html": [
       "<div>\n",
       "<style scoped>\n",
       "    .dataframe tbody tr th:only-of-type {\n",
       "        vertical-align: middle;\n",
       "    }\n",
       "\n",
       "    .dataframe tbody tr th {\n",
       "        vertical-align: top;\n",
       "    }\n",
       "\n",
       "    .dataframe thead th {\n",
       "        text-align: right;\n",
       "    }\n",
       "</style>\n",
       "<table border=\"1\" class=\"dataframe\">\n",
       "  <thead>\n",
       "    <tr style=\"text-align: right;\">\n",
       "      <th></th>\n",
       "      <th>0</th>\n",
       "      <th>1</th>\n",
       "      <th>2</th>\n",
       "      <th>3</th>\n",
       "      <th>4</th>\n",
       "    </tr>\n",
       "  </thead>\n",
       "  <tbody>\n",
       "    <tr>\n",
       "      <th>SeniorCitizen</th>\n",
       "      <td>0</td>\n",
       "      <td>0</td>\n",
       "      <td>0</td>\n",
       "      <td>0</td>\n",
       "      <td>0</td>\n",
       "    </tr>\n",
       "    <tr>\n",
       "      <th>tenure</th>\n",
       "      <td>1</td>\n",
       "      <td>34</td>\n",
       "      <td>2</td>\n",
       "      <td>45</td>\n",
       "      <td>2</td>\n",
       "    </tr>\n",
       "    <tr>\n",
       "      <th>MultipleLines</th>\n",
       "      <td>No phone service</td>\n",
       "      <td>No</td>\n",
       "      <td>No</td>\n",
       "      <td>No phone service</td>\n",
       "      <td>No</td>\n",
       "    </tr>\n",
       "    <tr>\n",
       "      <th>InternetService</th>\n",
       "      <td>DSL</td>\n",
       "      <td>DSL</td>\n",
       "      <td>DSL</td>\n",
       "      <td>DSL</td>\n",
       "      <td>Fiber optic</td>\n",
       "    </tr>\n",
       "    <tr>\n",
       "      <th>OnlineSecurity</th>\n",
       "      <td>No</td>\n",
       "      <td>Yes</td>\n",
       "      <td>Yes</td>\n",
       "      <td>Yes</td>\n",
       "      <td>No</td>\n",
       "    </tr>\n",
       "    <tr>\n",
       "      <th>OnlineBackup</th>\n",
       "      <td>Yes</td>\n",
       "      <td>No</td>\n",
       "      <td>Yes</td>\n",
       "      <td>No</td>\n",
       "      <td>No</td>\n",
       "    </tr>\n",
       "    <tr>\n",
       "      <th>DeviceProtection</th>\n",
       "      <td>No</td>\n",
       "      <td>Yes</td>\n",
       "      <td>No</td>\n",
       "      <td>Yes</td>\n",
       "      <td>No</td>\n",
       "    </tr>\n",
       "    <tr>\n",
       "      <th>TechSupport</th>\n",
       "      <td>No</td>\n",
       "      <td>No</td>\n",
       "      <td>No</td>\n",
       "      <td>Yes</td>\n",
       "      <td>No</td>\n",
       "    </tr>\n",
       "    <tr>\n",
       "      <th>StreamingTV</th>\n",
       "      <td>No</td>\n",
       "      <td>No</td>\n",
       "      <td>No</td>\n",
       "      <td>No</td>\n",
       "      <td>No</td>\n",
       "    </tr>\n",
       "    <tr>\n",
       "      <th>StreamingMovies</th>\n",
       "      <td>No</td>\n",
       "      <td>No</td>\n",
       "      <td>No</td>\n",
       "      <td>No</td>\n",
       "      <td>No</td>\n",
       "    </tr>\n",
       "    <tr>\n",
       "      <th>Contract</th>\n",
       "      <td>Month-to-month</td>\n",
       "      <td>One year</td>\n",
       "      <td>Month-to-month</td>\n",
       "      <td>One year</td>\n",
       "      <td>Month-to-month</td>\n",
       "    </tr>\n",
       "    <tr>\n",
       "      <th>PaymentMethod</th>\n",
       "      <td>Electronic check</td>\n",
       "      <td>Mailed check</td>\n",
       "      <td>Mailed check</td>\n",
       "      <td>Bank transfer (automatic)</td>\n",
       "      <td>Electronic check</td>\n",
       "    </tr>\n",
       "    <tr>\n",
       "      <th>MonthlyCharges</th>\n",
       "      <td>29.85</td>\n",
       "      <td>56.95</td>\n",
       "      <td>53.85</td>\n",
       "      <td>42.3</td>\n",
       "      <td>70.7</td>\n",
       "    </tr>\n",
       "    <tr>\n",
       "      <th>TotalCharges</th>\n",
       "      <td>29.85</td>\n",
       "      <td>1889.5</td>\n",
       "      <td>108.15</td>\n",
       "      <td>1840.75</td>\n",
       "      <td>151.65</td>\n",
       "    </tr>\n",
       "    <tr>\n",
       "      <th>gender_Male</th>\n",
       "      <td>0</td>\n",
       "      <td>1</td>\n",
       "      <td>1</td>\n",
       "      <td>1</td>\n",
       "      <td>0</td>\n",
       "    </tr>\n",
       "    <tr>\n",
       "      <th>Partner_Yes</th>\n",
       "      <td>1</td>\n",
       "      <td>0</td>\n",
       "      <td>0</td>\n",
       "      <td>0</td>\n",
       "      <td>0</td>\n",
       "    </tr>\n",
       "    <tr>\n",
       "      <th>Dependents_Yes</th>\n",
       "      <td>0</td>\n",
       "      <td>0</td>\n",
       "      <td>0</td>\n",
       "      <td>0</td>\n",
       "      <td>0</td>\n",
       "    </tr>\n",
       "    <tr>\n",
       "      <th>PhoneService_Yes</th>\n",
       "      <td>0</td>\n",
       "      <td>1</td>\n",
       "      <td>1</td>\n",
       "      <td>0</td>\n",
       "      <td>1</td>\n",
       "    </tr>\n",
       "    <tr>\n",
       "      <th>PaperlessBilling_Yes</th>\n",
       "      <td>1</td>\n",
       "      <td>0</td>\n",
       "      <td>1</td>\n",
       "      <td>0</td>\n",
       "      <td>1</td>\n",
       "    </tr>\n",
       "    <tr>\n",
       "      <th>contract</th>\n",
       "      <td>2</td>\n",
       "      <td>1</td>\n",
       "      <td>2</td>\n",
       "      <td>1</td>\n",
       "      <td>2</td>\n",
       "    </tr>\n",
       "    <tr>\n",
       "      <th>enc_MultipleLines</th>\n",
       "      <td>0.0967008</td>\n",
       "      <td>0.481371</td>\n",
       "      <td>0.481371</td>\n",
       "      <td>0.0967008</td>\n",
       "      <td>0.481371</td>\n",
       "    </tr>\n",
       "    <tr>\n",
       "      <th>enc_InternetService</th>\n",
       "      <td>0.343572</td>\n",
       "      <td>0.343572</td>\n",
       "      <td>0.343572</td>\n",
       "      <td>0.343572</td>\n",
       "      <td>0.440273</td>\n",
       "    </tr>\n",
       "    <tr>\n",
       "      <th>enc_OnlineSecurity</th>\n",
       "      <td>0.497298</td>\n",
       "      <td>0.286547</td>\n",
       "      <td>0.286547</td>\n",
       "      <td>0.286547</td>\n",
       "      <td>0.497298</td>\n",
       "    </tr>\n",
       "    <tr>\n",
       "      <th>enc_OnlineBackup</th>\n",
       "      <td>0.344852</td>\n",
       "      <td>0.438993</td>\n",
       "      <td>0.344852</td>\n",
       "      <td>0.438993</td>\n",
       "      <td>0.438993</td>\n",
       "    </tr>\n",
       "    <tr>\n",
       "      <th>enc_DeviceProtection</th>\n",
       "      <td>0.439989</td>\n",
       "      <td>0.343857</td>\n",
       "      <td>0.439989</td>\n",
       "      <td>0.343857</td>\n",
       "      <td>0.439989</td>\n",
       "    </tr>\n",
       "    <tr>\n",
       "      <th>enc_TechSupport</th>\n",
       "      <td>0.493743</td>\n",
       "      <td>0.493743</td>\n",
       "      <td>0.493743</td>\n",
       "      <td>0.290102</td>\n",
       "      <td>0.493743</td>\n",
       "    </tr>\n",
       "    <tr>\n",
       "      <th>enc_StreamingTV</th>\n",
       "      <td>0.39946</td>\n",
       "      <td>0.39946</td>\n",
       "      <td>0.39946</td>\n",
       "      <td>0.39946</td>\n",
       "      <td>0.39946</td>\n",
       "    </tr>\n",
       "    <tr>\n",
       "      <th>enc_StreamingMovies</th>\n",
       "      <td>0.395478</td>\n",
       "      <td>0.395478</td>\n",
       "      <td>0.395478</td>\n",
       "      <td>0.395478</td>\n",
       "      <td>0.395478</td>\n",
       "    </tr>\n",
       "    <tr>\n",
       "      <th>enc_PaymentMethod</th>\n",
       "      <td>0.33632</td>\n",
       "      <td>0.2281</td>\n",
       "      <td>0.2281</td>\n",
       "      <td>0.219283</td>\n",
       "      <td>0.33632</td>\n",
       "    </tr>\n",
       "  </tbody>\n",
       "</table>\n",
       "</div>"
      ],
      "text/plain": [
       "                                     0             1               2  \\\n",
       "SeniorCitizen                        0             0               0   \n",
       "tenure                               1            34               2   \n",
       "MultipleLines         No phone service            No              No   \n",
       "InternetService                    DSL           DSL             DSL   \n",
       "OnlineSecurity                      No           Yes             Yes   \n",
       "OnlineBackup                       Yes            No             Yes   \n",
       "DeviceProtection                    No           Yes              No   \n",
       "TechSupport                         No            No              No   \n",
       "StreamingTV                         No            No              No   \n",
       "StreamingMovies                     No            No              No   \n",
       "Contract                Month-to-month      One year  Month-to-month   \n",
       "PaymentMethod         Electronic check  Mailed check    Mailed check   \n",
       "MonthlyCharges                   29.85         56.95           53.85   \n",
       "TotalCharges                     29.85        1889.5          108.15   \n",
       "gender_Male                          0             1               1   \n",
       "Partner_Yes                          1             0               0   \n",
       "Dependents_Yes                       0             0               0   \n",
       "PhoneService_Yes                     0             1               1   \n",
       "PaperlessBilling_Yes                 1             0               1   \n",
       "contract                             2             1               2   \n",
       "enc_MultipleLines            0.0967008      0.481371        0.481371   \n",
       "enc_InternetService           0.343572      0.343572        0.343572   \n",
       "enc_OnlineSecurity            0.497298      0.286547        0.286547   \n",
       "enc_OnlineBackup              0.344852      0.438993        0.344852   \n",
       "enc_DeviceProtection          0.439989      0.343857        0.439989   \n",
       "enc_TechSupport               0.493743      0.493743        0.493743   \n",
       "enc_StreamingTV                0.39946       0.39946         0.39946   \n",
       "enc_StreamingMovies           0.395478      0.395478        0.395478   \n",
       "enc_PaymentMethod              0.33632        0.2281          0.2281   \n",
       "\n",
       "                                              3                 4  \n",
       "SeniorCitizen                                 0                 0  \n",
       "tenure                                       45                 2  \n",
       "MultipleLines                  No phone service                No  \n",
       "InternetService                             DSL       Fiber optic  \n",
       "OnlineSecurity                              Yes                No  \n",
       "OnlineBackup                                 No                No  \n",
       "DeviceProtection                            Yes                No  \n",
       "TechSupport                                 Yes                No  \n",
       "StreamingTV                                  No                No  \n",
       "StreamingMovies                              No                No  \n",
       "Contract                               One year    Month-to-month  \n",
       "PaymentMethod         Bank transfer (automatic)  Electronic check  \n",
       "MonthlyCharges                             42.3              70.7  \n",
       "TotalCharges                            1840.75            151.65  \n",
       "gender_Male                                   1                 0  \n",
       "Partner_Yes                                   0                 0  \n",
       "Dependents_Yes                                0                 0  \n",
       "PhoneService_Yes                              0                 1  \n",
       "PaperlessBilling_Yes                          0                 1  \n",
       "contract                                      1                 2  \n",
       "enc_MultipleLines                     0.0967008          0.481371  \n",
       "enc_InternetService                    0.343572          0.440273  \n",
       "enc_OnlineSecurity                     0.286547          0.497298  \n",
       "enc_OnlineBackup                       0.438993          0.438993  \n",
       "enc_DeviceProtection                   0.343857          0.439989  \n",
       "enc_TechSupport                        0.290102          0.493743  \n",
       "enc_StreamingTV                         0.39946           0.39946  \n",
       "enc_StreamingMovies                    0.395478          0.395478  \n",
       "enc_PaymentMethod                      0.219283           0.33632  "
      ]
     },
     "execution_count": 24,
     "metadata": {},
     "output_type": "execute_result"
    }
   ],
   "source": [
    "for item in col_to_encode:\n",
    "    if item != 'Contract':          # 'Contract already encoded'\n",
    "        counts = X[item].value_counts()\n",
    "        freq_enc = counts/len(X)\n",
    "        X['enc_'+item] = X[item].map(freq_enc)\n",
    "\n",
    "X.head().T"
   ]
  },
  {
   "cell_type": "markdown",
   "metadata": {},
   "source": [
    "- Drop those encoded features."
   ]
  },
  {
   "cell_type": "code",
   "execution_count": 25,
   "metadata": {},
   "outputs": [
    {
     "data": {
      "text/html": [
       "<div>\n",
       "<style scoped>\n",
       "    .dataframe tbody tr th:only-of-type {\n",
       "        vertical-align: middle;\n",
       "    }\n",
       "\n",
       "    .dataframe tbody tr th {\n",
       "        vertical-align: top;\n",
       "    }\n",
       "\n",
       "    .dataframe thead th {\n",
       "        text-align: right;\n",
       "    }\n",
       "</style>\n",
       "<table border=\"1\" class=\"dataframe\">\n",
       "  <thead>\n",
       "    <tr style=\"text-align: right;\">\n",
       "      <th></th>\n",
       "      <th>0</th>\n",
       "      <th>1</th>\n",
       "      <th>2</th>\n",
       "      <th>3</th>\n",
       "      <th>4</th>\n",
       "    </tr>\n",
       "  </thead>\n",
       "  <tbody>\n",
       "    <tr>\n",
       "      <th>SeniorCitizen</th>\n",
       "      <td>0.000000</td>\n",
       "      <td>0.000000</td>\n",
       "      <td>0.000000</td>\n",
       "      <td>0.000000</td>\n",
       "      <td>0.000000</td>\n",
       "    </tr>\n",
       "    <tr>\n",
       "      <th>tenure</th>\n",
       "      <td>1.000000</td>\n",
       "      <td>34.000000</td>\n",
       "      <td>2.000000</td>\n",
       "      <td>45.000000</td>\n",
       "      <td>2.000000</td>\n",
       "    </tr>\n",
       "    <tr>\n",
       "      <th>MonthlyCharges</th>\n",
       "      <td>29.850000</td>\n",
       "      <td>56.950000</td>\n",
       "      <td>53.850000</td>\n",
       "      <td>42.300000</td>\n",
       "      <td>70.700000</td>\n",
       "    </tr>\n",
       "    <tr>\n",
       "      <th>TotalCharges</th>\n",
       "      <td>29.850000</td>\n",
       "      <td>1889.500000</td>\n",
       "      <td>108.150000</td>\n",
       "      <td>1840.750000</td>\n",
       "      <td>151.650000</td>\n",
       "    </tr>\n",
       "    <tr>\n",
       "      <th>gender_Male</th>\n",
       "      <td>0.000000</td>\n",
       "      <td>1.000000</td>\n",
       "      <td>1.000000</td>\n",
       "      <td>1.000000</td>\n",
       "      <td>0.000000</td>\n",
       "    </tr>\n",
       "    <tr>\n",
       "      <th>Partner_Yes</th>\n",
       "      <td>1.000000</td>\n",
       "      <td>0.000000</td>\n",
       "      <td>0.000000</td>\n",
       "      <td>0.000000</td>\n",
       "      <td>0.000000</td>\n",
       "    </tr>\n",
       "    <tr>\n",
       "      <th>Dependents_Yes</th>\n",
       "      <td>0.000000</td>\n",
       "      <td>0.000000</td>\n",
       "      <td>0.000000</td>\n",
       "      <td>0.000000</td>\n",
       "      <td>0.000000</td>\n",
       "    </tr>\n",
       "    <tr>\n",
       "      <th>PhoneService_Yes</th>\n",
       "      <td>0.000000</td>\n",
       "      <td>1.000000</td>\n",
       "      <td>1.000000</td>\n",
       "      <td>0.000000</td>\n",
       "      <td>1.000000</td>\n",
       "    </tr>\n",
       "    <tr>\n",
       "      <th>PaperlessBilling_Yes</th>\n",
       "      <td>1.000000</td>\n",
       "      <td>0.000000</td>\n",
       "      <td>1.000000</td>\n",
       "      <td>0.000000</td>\n",
       "      <td>1.000000</td>\n",
       "    </tr>\n",
       "    <tr>\n",
       "      <th>contract</th>\n",
       "      <td>2.000000</td>\n",
       "      <td>1.000000</td>\n",
       "      <td>2.000000</td>\n",
       "      <td>1.000000</td>\n",
       "      <td>2.000000</td>\n",
       "    </tr>\n",
       "    <tr>\n",
       "      <th>enc_MultipleLines</th>\n",
       "      <td>0.096701</td>\n",
       "      <td>0.481371</td>\n",
       "      <td>0.481371</td>\n",
       "      <td>0.096701</td>\n",
       "      <td>0.481371</td>\n",
       "    </tr>\n",
       "    <tr>\n",
       "      <th>enc_InternetService</th>\n",
       "      <td>0.343572</td>\n",
       "      <td>0.343572</td>\n",
       "      <td>0.343572</td>\n",
       "      <td>0.343572</td>\n",
       "      <td>0.440273</td>\n",
       "    </tr>\n",
       "    <tr>\n",
       "      <th>enc_OnlineSecurity</th>\n",
       "      <td>0.497298</td>\n",
       "      <td>0.286547</td>\n",
       "      <td>0.286547</td>\n",
       "      <td>0.286547</td>\n",
       "      <td>0.497298</td>\n",
       "    </tr>\n",
       "    <tr>\n",
       "      <th>enc_OnlineBackup</th>\n",
       "      <td>0.344852</td>\n",
       "      <td>0.438993</td>\n",
       "      <td>0.344852</td>\n",
       "      <td>0.438993</td>\n",
       "      <td>0.438993</td>\n",
       "    </tr>\n",
       "    <tr>\n",
       "      <th>enc_DeviceProtection</th>\n",
       "      <td>0.439989</td>\n",
       "      <td>0.343857</td>\n",
       "      <td>0.439989</td>\n",
       "      <td>0.343857</td>\n",
       "      <td>0.439989</td>\n",
       "    </tr>\n",
       "    <tr>\n",
       "      <th>enc_TechSupport</th>\n",
       "      <td>0.493743</td>\n",
       "      <td>0.493743</td>\n",
       "      <td>0.493743</td>\n",
       "      <td>0.290102</td>\n",
       "      <td>0.493743</td>\n",
       "    </tr>\n",
       "    <tr>\n",
       "      <th>enc_StreamingTV</th>\n",
       "      <td>0.399460</td>\n",
       "      <td>0.399460</td>\n",
       "      <td>0.399460</td>\n",
       "      <td>0.399460</td>\n",
       "      <td>0.399460</td>\n",
       "    </tr>\n",
       "    <tr>\n",
       "      <th>enc_StreamingMovies</th>\n",
       "      <td>0.395478</td>\n",
       "      <td>0.395478</td>\n",
       "      <td>0.395478</td>\n",
       "      <td>0.395478</td>\n",
       "      <td>0.395478</td>\n",
       "    </tr>\n",
       "    <tr>\n",
       "      <th>enc_PaymentMethod</th>\n",
       "      <td>0.336320</td>\n",
       "      <td>0.228100</td>\n",
       "      <td>0.228100</td>\n",
       "      <td>0.219283</td>\n",
       "      <td>0.336320</td>\n",
       "    </tr>\n",
       "  </tbody>\n",
       "</table>\n",
       "</div>"
      ],
      "text/plain": [
       "                              0            1           2            3  \\\n",
       "SeniorCitizen          0.000000     0.000000    0.000000     0.000000   \n",
       "tenure                 1.000000    34.000000    2.000000    45.000000   \n",
       "MonthlyCharges        29.850000    56.950000   53.850000    42.300000   \n",
       "TotalCharges          29.850000  1889.500000  108.150000  1840.750000   \n",
       "gender_Male            0.000000     1.000000    1.000000     1.000000   \n",
       "Partner_Yes            1.000000     0.000000    0.000000     0.000000   \n",
       "Dependents_Yes         0.000000     0.000000    0.000000     0.000000   \n",
       "PhoneService_Yes       0.000000     1.000000    1.000000     0.000000   \n",
       "PaperlessBilling_Yes   1.000000     0.000000    1.000000     0.000000   \n",
       "contract               2.000000     1.000000    2.000000     1.000000   \n",
       "enc_MultipleLines      0.096701     0.481371    0.481371     0.096701   \n",
       "enc_InternetService    0.343572     0.343572    0.343572     0.343572   \n",
       "enc_OnlineSecurity     0.497298     0.286547    0.286547     0.286547   \n",
       "enc_OnlineBackup       0.344852     0.438993    0.344852     0.438993   \n",
       "enc_DeviceProtection   0.439989     0.343857    0.439989     0.343857   \n",
       "enc_TechSupport        0.493743     0.493743    0.493743     0.290102   \n",
       "enc_StreamingTV        0.399460     0.399460    0.399460     0.399460   \n",
       "enc_StreamingMovies    0.395478     0.395478    0.395478     0.395478   \n",
       "enc_PaymentMethod      0.336320     0.228100    0.228100     0.219283   \n",
       "\n",
       "                               4  \n",
       "SeniorCitizen           0.000000  \n",
       "tenure                  2.000000  \n",
       "MonthlyCharges         70.700000  \n",
       "TotalCharges          151.650000  \n",
       "gender_Male             0.000000  \n",
       "Partner_Yes             0.000000  \n",
       "Dependents_Yes          0.000000  \n",
       "PhoneService_Yes        1.000000  \n",
       "PaperlessBilling_Yes    1.000000  \n",
       "contract                2.000000  \n",
       "enc_MultipleLines       0.481371  \n",
       "enc_InternetService     0.440273  \n",
       "enc_OnlineSecurity      0.497298  \n",
       "enc_OnlineBackup        0.438993  \n",
       "enc_DeviceProtection    0.439989  \n",
       "enc_TechSupport         0.493743  \n",
       "enc_StreamingTV         0.399460  \n",
       "enc_StreamingMovies     0.395478  \n",
       "enc_PaymentMethod       0.336320  "
      ]
     },
     "execution_count": 25,
     "metadata": {},
     "output_type": "execute_result"
    }
   ],
   "source": [
    "X = X.drop(col_to_encode, axis=1)\n",
    "X.head().T"
   ]
  },
  {
   "cell_type": "markdown",
   "metadata": {},
   "source": [
    "- use label encoding for the label (y) as it is also a categorical feature."
   ]
  },
  {
   "cell_type": "code",
   "execution_count": 26,
   "metadata": {},
   "outputs": [
    {
     "data": {
      "text/plain": [
       "array([0, 0, 1, ..., 0, 1, 0])"
      ]
     },
     "execution_count": 26,
     "metadata": {},
     "output_type": "execute_result"
    }
   ],
   "source": [
    "encoder = LabelEncoder()\n",
    "\n",
    "y = encoder.fit_transform(y)\n",
    "\n",
    "y"
   ]
  },
  {
   "cell_type": "markdown",
   "metadata": {},
   "source": [
    "Split the dataset into train and test set. Since the dataset is imbalance, we will split the data using stratification so that the percentage of customers who churn will be the same in both train and test dataset."
   ]
  },
  {
   "cell_type": "code",
   "execution_count": 27,
   "metadata": {},
   "outputs": [],
   "source": [
    "X_train, X_test, y_train, y_test = train_test_split(X, y, test_size=0.2, random_state=55, stratify=y)"
   ]
  },
  {
   "cell_type": "markdown",
   "metadata": {},
   "source": [
    "Perform feature scaling on \"tenure\", \"MonthlyCharges\", \"TotalCharges\" and \"contract\"."
   ]
  },
  {
   "cell_type": "code",
   "execution_count": 28,
   "metadata": {},
   "outputs": [],
   "source": [
    "X_train_scale = X_train.copy()\n",
    "X_test_scale = X_test.copy()"
   ]
  },
  {
   "cell_type": "code",
   "execution_count": 29,
   "metadata": {},
   "outputs": [],
   "source": [
    "standard_scaler = StandardScaler()\n",
    "\n",
    "scale_col = [\"tenure\", \"MonthlyCharges\", \"TotalCharges\",\"contract\"]\n",
    "\n",
    "for item in scale_col:\n",
    "    X_train_scale[item] = standard_scaler.fit_transform(X_train[[item]])\n",
    "    X_test_scale[item] = standard_scaler.transform(X_test[[item]])"
   ]
  },
  {
   "cell_type": "code",
   "execution_count": 30,
   "metadata": {},
   "outputs": [
    {
     "data": {
      "text/html": [
       "<div>\n",
       "<style scoped>\n",
       "    .dataframe tbody tr th:only-of-type {\n",
       "        vertical-align: middle;\n",
       "    }\n",
       "\n",
       "    .dataframe tbody tr th {\n",
       "        vertical-align: top;\n",
       "    }\n",
       "\n",
       "    .dataframe thead th {\n",
       "        text-align: right;\n",
       "    }\n",
       "</style>\n",
       "<table border=\"1\" class=\"dataframe\">\n",
       "  <thead>\n",
       "    <tr style=\"text-align: right;\">\n",
       "      <th></th>\n",
       "      <th>5599</th>\n",
       "      <th>2969</th>\n",
       "      <th>3238</th>\n",
       "      <th>1058</th>\n",
       "      <th>5280</th>\n",
       "    </tr>\n",
       "  </thead>\n",
       "  <tbody>\n",
       "    <tr>\n",
       "      <th>SeniorCitizen</th>\n",
       "      <td>0.000000</td>\n",
       "      <td>0.000000</td>\n",
       "      <td>0.000000</td>\n",
       "      <td>0.000000</td>\n",
       "      <td>0.000000</td>\n",
       "    </tr>\n",
       "    <tr>\n",
       "      <th>tenure</th>\n",
       "      <td>-0.956036</td>\n",
       "      <td>1.326485</td>\n",
       "      <td>-0.263128</td>\n",
       "      <td>-1.241351</td>\n",
       "      <td>0.022188</td>\n",
       "    </tr>\n",
       "    <tr>\n",
       "      <th>MonthlyCharges</th>\n",
       "      <td>1.003992</td>\n",
       "      <td>1.486217</td>\n",
       "      <td>-1.505579</td>\n",
       "      <td>0.827121</td>\n",
       "      <td>0.480053</td>\n",
       "    </tr>\n",
       "    <tr>\n",
       "      <th>TotalCharges</th>\n",
       "      <td>-0.616622</td>\n",
       "      <td>2.235292</td>\n",
       "      <td>-0.791666</td>\n",
       "      <td>-0.928512</td>\n",
       "      <td>0.109213</td>\n",
       "    </tr>\n",
       "    <tr>\n",
       "      <th>gender_Male</th>\n",
       "      <td>1.000000</td>\n",
       "      <td>0.000000</td>\n",
       "      <td>0.000000</td>\n",
       "      <td>1.000000</td>\n",
       "      <td>0.000000</td>\n",
       "    </tr>\n",
       "    <tr>\n",
       "      <th>Partner_Yes</th>\n",
       "      <td>1.000000</td>\n",
       "      <td>1.000000</td>\n",
       "      <td>1.000000</td>\n",
       "      <td>1.000000</td>\n",
       "      <td>1.000000</td>\n",
       "    </tr>\n",
       "    <tr>\n",
       "      <th>Dependents_Yes</th>\n",
       "      <td>0.000000</td>\n",
       "      <td>1.000000</td>\n",
       "      <td>1.000000</td>\n",
       "      <td>1.000000</td>\n",
       "      <td>1.000000</td>\n",
       "    </tr>\n",
       "    <tr>\n",
       "      <th>PhoneService_Yes</th>\n",
       "      <td>1.000000</td>\n",
       "      <td>1.000000</td>\n",
       "      <td>1.000000</td>\n",
       "      <td>1.000000</td>\n",
       "      <td>1.000000</td>\n",
       "    </tr>\n",
       "    <tr>\n",
       "      <th>PaperlessBilling_Yes</th>\n",
       "      <td>1.000000</td>\n",
       "      <td>0.000000</td>\n",
       "      <td>0.000000</td>\n",
       "      <td>1.000000</td>\n",
       "      <td>1.000000</td>\n",
       "    </tr>\n",
       "    <tr>\n",
       "      <th>contract</th>\n",
       "      <td>0.829567</td>\n",
       "      <td>-1.565256</td>\n",
       "      <td>-1.565256</td>\n",
       "      <td>0.829567</td>\n",
       "      <td>-0.367845</td>\n",
       "    </tr>\n",
       "    <tr>\n",
       "      <th>enc_MultipleLines</th>\n",
       "      <td>0.481371</td>\n",
       "      <td>0.421928</td>\n",
       "      <td>0.481371</td>\n",
       "      <td>0.481371</td>\n",
       "      <td>0.421928</td>\n",
       "    </tr>\n",
       "    <tr>\n",
       "      <th>enc_InternetService</th>\n",
       "      <td>0.440273</td>\n",
       "      <td>0.440273</td>\n",
       "      <td>0.216155</td>\n",
       "      <td>0.440273</td>\n",
       "      <td>0.343572</td>\n",
       "    </tr>\n",
       "    <tr>\n",
       "      <th>enc_OnlineSecurity</th>\n",
       "      <td>0.497298</td>\n",
       "      <td>0.286547</td>\n",
       "      <td>0.216155</td>\n",
       "      <td>0.497298</td>\n",
       "      <td>0.497298</td>\n",
       "    </tr>\n",
       "    <tr>\n",
       "      <th>enc_OnlineBackup</th>\n",
       "      <td>0.344852</td>\n",
       "      <td>0.438993</td>\n",
       "      <td>0.216155</td>\n",
       "      <td>0.438993</td>\n",
       "      <td>0.438993</td>\n",
       "    </tr>\n",
       "    <tr>\n",
       "      <th>enc_DeviceProtection</th>\n",
       "      <td>0.343857</td>\n",
       "      <td>0.343857</td>\n",
       "      <td>0.216155</td>\n",
       "      <td>0.439989</td>\n",
       "      <td>0.343857</td>\n",
       "    </tr>\n",
       "    <tr>\n",
       "      <th>enc_TechSupport</th>\n",
       "      <td>0.290102</td>\n",
       "      <td>0.290102</td>\n",
       "      <td>0.216155</td>\n",
       "      <td>0.493743</td>\n",
       "      <td>0.290102</td>\n",
       "    </tr>\n",
       "    <tr>\n",
       "      <th>enc_StreamingTV</th>\n",
       "      <td>0.384386</td>\n",
       "      <td>0.384386</td>\n",
       "      <td>0.216155</td>\n",
       "      <td>0.384386</td>\n",
       "      <td>0.384386</td>\n",
       "    </tr>\n",
       "    <tr>\n",
       "      <th>enc_StreamingMovies</th>\n",
       "      <td>0.395478</td>\n",
       "      <td>0.388367</td>\n",
       "      <td>0.216155</td>\n",
       "      <td>0.388367</td>\n",
       "      <td>0.388367</td>\n",
       "    </tr>\n",
       "    <tr>\n",
       "      <th>enc_PaymentMethod</th>\n",
       "      <td>0.228100</td>\n",
       "      <td>0.336320</td>\n",
       "      <td>0.216297</td>\n",
       "      <td>0.219283</td>\n",
       "      <td>0.336320</td>\n",
       "    </tr>\n",
       "  </tbody>\n",
       "</table>\n",
       "</div>"
      ],
      "text/plain": [
       "                          5599      2969      3238      1058      5280\n",
       "SeniorCitizen         0.000000  0.000000  0.000000  0.000000  0.000000\n",
       "tenure               -0.956036  1.326485 -0.263128 -1.241351  0.022188\n",
       "MonthlyCharges        1.003992  1.486217 -1.505579  0.827121  0.480053\n",
       "TotalCharges         -0.616622  2.235292 -0.791666 -0.928512  0.109213\n",
       "gender_Male           1.000000  0.000000  0.000000  1.000000  0.000000\n",
       "Partner_Yes           1.000000  1.000000  1.000000  1.000000  1.000000\n",
       "Dependents_Yes        0.000000  1.000000  1.000000  1.000000  1.000000\n",
       "PhoneService_Yes      1.000000  1.000000  1.000000  1.000000  1.000000\n",
       "PaperlessBilling_Yes  1.000000  0.000000  0.000000  1.000000  1.000000\n",
       "contract              0.829567 -1.565256 -1.565256  0.829567 -0.367845\n",
       "enc_MultipleLines     0.481371  0.421928  0.481371  0.481371  0.421928\n",
       "enc_InternetService   0.440273  0.440273  0.216155  0.440273  0.343572\n",
       "enc_OnlineSecurity    0.497298  0.286547  0.216155  0.497298  0.497298\n",
       "enc_OnlineBackup      0.344852  0.438993  0.216155  0.438993  0.438993\n",
       "enc_DeviceProtection  0.343857  0.343857  0.216155  0.439989  0.343857\n",
       "enc_TechSupport       0.290102  0.290102  0.216155  0.493743  0.290102\n",
       "enc_StreamingTV       0.384386  0.384386  0.216155  0.384386  0.384386\n",
       "enc_StreamingMovies   0.395478  0.388367  0.216155  0.388367  0.388367\n",
       "enc_PaymentMethod     0.228100  0.336320  0.216297  0.219283  0.336320"
      ]
     },
     "execution_count": 30,
     "metadata": {},
     "output_type": "execute_result"
    }
   ],
   "source": [
    "X_train_scale.head().T"
   ]
  },
  {
   "cell_type": "markdown",
   "metadata": {},
   "source": [
    "Perform a multicollinearity check to see any correlations between features."
   ]
  },
  {
   "cell_type": "code",
   "execution_count": 31,
   "metadata": {},
   "outputs": [],
   "source": [
    "cor = X_train_scale.corr()"
   ]
  },
  {
   "cell_type": "code",
   "execution_count": 32,
   "metadata": {},
   "outputs": [
    {
     "data": {
      "image/png": "[encoded data removed]",
      "text/plain": [
       "<Figure size 1440x1080 with 2 Axes>"
      ]
     },
     "metadata": {
      "needs_background": "light"
     },
     "output_type": "display_data"
    }
   ],
   "source": [
    "plt.figure(figsize=(20,15))\n",
    "sns.heatmap(cor, annot=True, cmap='coolwarm')\n",
    "plt.savefig('corr.png')"
   ]
  },
  {
   "cell_type": "markdown",
   "metadata": {},
   "source": [
    "From the heatmap, we can see that:\n",
    "- Highly correlated (> 0.8): \n",
    "    - \"tenure\", \"TotalCharges\"\n",
    "    - \"MonthlyCharges\", \"InternetService\"\n",
    "    - \"PhoneService\", \"MultipleLines\"\n",
    "    - \"InternetService\", \"StreamingTV\", \"StreamingMovies\"\n",
    "    - \"OnlineBackup\", \"StreamingTV\", \"StreamingMovies\"\n",
    "    - \"DeviceProtection\", \"StreamingTV\", \"StreamingMovies\"\n",
    "    \n",
    "We will drop \"MultipleLines\", \"StreamingTV\", \"StreamingMovies\", \"TotalCharges\" and keep the rest. Although (\"MonthlyCharges\" and \"InternetService\") is also highly correlated, we will keep them because we need to know how much customers is paying monthly and what services they are using."
   ]
  },
  {
   "cell_type": "code",
   "execution_count": 33,
   "metadata": {},
   "outputs": [],
   "source": [
    "X_train_scale.drop([ \"enc_MultipleLines\", \"enc_StreamingTV\", \"enc_StreamingMovies\", 'TotalCharges'], axis=1, inplace=True)\n",
    "X_test_scale.drop([\"enc_MultipleLines\", \"enc_StreamingTV\", \"enc_StreamingMovies\", 'TotalCharges'], axis=1, inplace=True)"
   ]
  },
  {
   "cell_type": "code",
   "execution_count": 34,
   "metadata": {},
   "outputs": [
    {
     "data": {
      "text/html": [
       "<div>\n",
       "<style scoped>\n",
       "    .dataframe tbody tr th:only-of-type {\n",
       "        vertical-align: middle;\n",
       "    }\n",
       "\n",
       "    .dataframe tbody tr th {\n",
       "        vertical-align: top;\n",
       "    }\n",
       "\n",
       "    .dataframe thead th {\n",
       "        text-align: right;\n",
       "    }\n",
       "</style>\n",
       "<table border=\"1\" class=\"dataframe\">\n",
       "  <thead>\n",
       "    <tr style=\"text-align: right;\">\n",
       "      <th></th>\n",
       "      <th>5599</th>\n",
       "      <th>2969</th>\n",
       "      <th>3238</th>\n",
       "      <th>1058</th>\n",
       "      <th>5280</th>\n",
       "    </tr>\n",
       "  </thead>\n",
       "  <tbody>\n",
       "    <tr>\n",
       "      <th>SeniorCitizen</th>\n",
       "      <td>0.000000</td>\n",
       "      <td>0.000000</td>\n",
       "      <td>0.000000</td>\n",
       "      <td>0.000000</td>\n",
       "      <td>0.000000</td>\n",
       "    </tr>\n",
       "    <tr>\n",
       "      <th>tenure</th>\n",
       "      <td>-0.956036</td>\n",
       "      <td>1.326485</td>\n",
       "      <td>-0.263128</td>\n",
       "      <td>-1.241351</td>\n",
       "      <td>0.022188</td>\n",
       "    </tr>\n",
       "    <tr>\n",
       "      <th>MonthlyCharges</th>\n",
       "      <td>1.003992</td>\n",
       "      <td>1.486217</td>\n",
       "      <td>-1.505579</td>\n",
       "      <td>0.827121</td>\n",
       "      <td>0.480053</td>\n",
       "    </tr>\n",
       "    <tr>\n",
       "      <th>gender_Male</th>\n",
       "      <td>1.000000</td>\n",
       "      <td>0.000000</td>\n",
       "      <td>0.000000</td>\n",
       "      <td>1.000000</td>\n",
       "      <td>0.000000</td>\n",
       "    </tr>\n",
       "    <tr>\n",
       "      <th>Partner_Yes</th>\n",
       "      <td>1.000000</td>\n",
       "      <td>1.000000</td>\n",
       "      <td>1.000000</td>\n",
       "      <td>1.000000</td>\n",
       "      <td>1.000000</td>\n",
       "    </tr>\n",
       "    <tr>\n",
       "      <th>Dependents_Yes</th>\n",
       "      <td>0.000000</td>\n",
       "      <td>1.000000</td>\n",
       "      <td>1.000000</td>\n",
       "      <td>1.000000</td>\n",
       "      <td>1.000000</td>\n",
       "    </tr>\n",
       "    <tr>\n",
       "      <th>PhoneService_Yes</th>\n",
       "      <td>1.000000</td>\n",
       "      <td>1.000000</td>\n",
       "      <td>1.000000</td>\n",
       "      <td>1.000000</td>\n",
       "      <td>1.000000</td>\n",
       "    </tr>\n",
       "    <tr>\n",
       "      <th>PaperlessBilling_Yes</th>\n",
       "      <td>1.000000</td>\n",
       "      <td>0.000000</td>\n",
       "      <td>0.000000</td>\n",
       "      <td>1.000000</td>\n",
       "      <td>1.000000</td>\n",
       "    </tr>\n",
       "    <tr>\n",
       "      <th>contract</th>\n",
       "      <td>0.829567</td>\n",
       "      <td>-1.565256</td>\n",
       "      <td>-1.565256</td>\n",
       "      <td>0.829567</td>\n",
       "      <td>-0.367845</td>\n",
       "    </tr>\n",
       "    <tr>\n",
       "      <th>enc_InternetService</th>\n",
       "      <td>0.440273</td>\n",
       "      <td>0.440273</td>\n",
       "      <td>0.216155</td>\n",
       "      <td>0.440273</td>\n",
       "      <td>0.343572</td>\n",
       "    </tr>\n",
       "    <tr>\n",
       "      <th>enc_OnlineSecurity</th>\n",
       "      <td>0.497298</td>\n",
       "      <td>0.286547</td>\n",
       "      <td>0.216155</td>\n",
       "      <td>0.497298</td>\n",
       "      <td>0.497298</td>\n",
       "    </tr>\n",
       "    <tr>\n",
       "      <th>enc_OnlineBackup</th>\n",
       "      <td>0.344852</td>\n",
       "      <td>0.438993</td>\n",
       "      <td>0.216155</td>\n",
       "      <td>0.438993</td>\n",
       "      <td>0.438993</td>\n",
       "    </tr>\n",
       "    <tr>\n",
       "      <th>enc_DeviceProtection</th>\n",
       "      <td>0.343857</td>\n",
       "      <td>0.343857</td>\n",
       "      <td>0.216155</td>\n",
       "      <td>0.439989</td>\n",
       "      <td>0.343857</td>\n",
       "    </tr>\n",
       "    <tr>\n",
       "      <th>enc_TechSupport</th>\n",
       "      <td>0.290102</td>\n",
       "      <td>0.290102</td>\n",
       "      <td>0.216155</td>\n",
       "      <td>0.493743</td>\n",
       "      <td>0.290102</td>\n",
       "    </tr>\n",
       "    <tr>\n",
       "      <th>enc_PaymentMethod</th>\n",
       "      <td>0.228100</td>\n",
       "      <td>0.336320</td>\n",
       "      <td>0.216297</td>\n",
       "      <td>0.219283</td>\n",
       "      <td>0.336320</td>\n",
       "    </tr>\n",
       "  </tbody>\n",
       "</table>\n",
       "</div>"
      ],
      "text/plain": [
       "                          5599      2969      3238      1058      5280\n",
       "SeniorCitizen         0.000000  0.000000  0.000000  0.000000  0.000000\n",
       "tenure               -0.956036  1.326485 -0.263128 -1.241351  0.022188\n",
       "MonthlyCharges        1.003992  1.486217 -1.505579  0.827121  0.480053\n",
       "gender_Male           1.000000  0.000000  0.000000  1.000000  0.000000\n",
       "Partner_Yes           1.000000  1.000000  1.000000  1.000000  1.000000\n",
       "Dependents_Yes        0.000000  1.000000  1.000000  1.000000  1.000000\n",
       "PhoneService_Yes      1.000000  1.000000  1.000000  1.000000  1.000000\n",
       "PaperlessBilling_Yes  1.000000  0.000000  0.000000  1.000000  1.000000\n",
       "contract              0.829567 -1.565256 -1.565256  0.829567 -0.367845\n",
       "enc_InternetService   0.440273  0.440273  0.216155  0.440273  0.343572\n",
       "enc_OnlineSecurity    0.497298  0.286547  0.216155  0.497298  0.497298\n",
       "enc_OnlineBackup      0.344852  0.438993  0.216155  0.438993  0.438993\n",
       "enc_DeviceProtection  0.343857  0.343857  0.216155  0.439989  0.343857\n",
       "enc_TechSupport       0.290102  0.290102  0.216155  0.493743  0.290102\n",
       "enc_PaymentMethod     0.228100  0.336320  0.216297  0.219283  0.336320"
      ]
     },
     "execution_count": 34,
     "metadata": {},
     "output_type": "execute_result"
    }
   ],
   "source": [
    "X_train_scale.head().T"
   ]
  },
  {
   "cell_type": "markdown",
   "metadata": {},
   "source": [
    "The dataset is ready for training!!!\n",
    "\n",
    "## Training the models.\n",
    "\n",
    "We will train a few models and choose the best performed model.\n",
    "\n",
    "Create a function to store the metrics score and create the confusion matrix heatmap."
   ]
  },
  {
   "cell_type": "code",
   "execution_count": 35,
   "metadata": {},
   "outputs": [],
   "source": [
    "precision = []\n",
    "recall = []\n",
    "accuracy = []\n",
    "f1 = []\n",
    "auc = []\n",
    "lloss = []\n",
    "\n",
    "def report(y_test, y_pred):\n",
    "    precision.append(round(precision_score(y_test, y_pred), 2))\n",
    "    recall.append(round(recall_score(y_test, y_pred), 2))\n",
    "    accuracy.append(round(accuracy_score(y_test, y_pred), 2))\n",
    "    f1.append(round(f1_score(y_test, y_pred),2))\n",
    "    auc.append(round(roc_auc_score(y_test, y_pred), 2))\n",
    "    lloss.append(round(log_loss(y_test, y_pred), 2))\n",
    "    print('Precision: {}\\t Recall: {}\\t Accuracy: {}'.format(precision[-1], recall[-1], accuracy[-1]))\n",
    "    print('F1: {}\\t AUC: {}\\t Log-loss: {}'.format(f1[-1], auc[-1], lloss[-1]))\n",
    "    sns.heatmap(confusion_matrix(y_test, y_pred), annot=True, fmt='d')\n",
    "    plt.xlabel('Predicted')\n",
    "    plt.ylabel('Ground Truth')\n",
    "    return plt.show()\n",
    "            "
   ]
  },
  {
   "cell_type": "markdown",
   "metadata": {},
   "source": [
    "**Steps:**\n",
    "- Train the model\n",
    "- Test the model\n",
    "- Evaluate the model and save all metrics scores in their respective list\n",
    "- Use a heatamp to show the confusion matrix"
   ]
  },
  {
   "cell_type": "markdown",
   "metadata": {},
   "source": [
    "**1. Logistic Regression**\n",
    "\n",
    "Since our dataset is imbalance, we will use the \"class weight\" parameter to handle this problem."
   ]
  },
  {
   "cell_type": "code",
   "execution_count": 36,
   "metadata": {},
   "outputs": [
    {
     "data": {
      "text/plain": [
       "LogisticRegression(class_weight='balanced', random_state=55)"
      ]
     },
     "execution_count": 36,
     "metadata": {},
     "output_type": "execute_result"
    }
   ],
   "source": [
    "lg = LogisticRegression(random_state=55, class_weight='balanced')\n",
    "\n",
    "lg.fit(X_train_scale, y_train)"
   ]
  },
  {
   "cell_type": "code",
   "execution_count": 37,
   "metadata": {},
   "outputs": [],
   "source": [
    "y_pred = lg.predict(X_test_scale)"
   ]
  },
  {
   "cell_type": "code",
   "execution_count": 38,
   "metadata": {},
   "outputs": [
    {
     "name": "stdout",
     "output_type": "stream",
     "text": [
      "Precision: 0.53\t Recall: 0.82\t Accuracy: 0.76\n",
      "F1: 0.64\t AUC: 0.78\t Log-loss: 8.44\n"
     ]
    },
    {
     "data": {
      "image/png": "[encoded data removed]",
      "text/plain": [
       "<Figure size 432x288 with 2 Axes>"
      ]
     },
     "metadata": {
      "needs_background": "light"
     },
     "output_type": "display_data"
    }
   ],
   "source": [
    "report(y_test, y_pred)     "
   ]
  },
  {
   "cell_type": "markdown",
   "metadata": {},
   "source": [
    "**2. Decision Tree**"
   ]
  },
  {
   "cell_type": "code",
   "execution_count": 39,
   "metadata": {},
   "outputs": [
    {
     "data": {
      "text/plain": [
       "DecisionTreeClassifier(class_weight='balanced', criterion='entropy',\n",
       "                       max_depth=5, random_state=55)"
      ]
     },
     "execution_count": 39,
     "metadata": {},
     "output_type": "execute_result"
    }
   ],
   "source": [
    "dt = DecisionTreeClassifier(criterion='entropy', max_depth=5, random_state=55, class_weight='balanced')\n",
    "\n",
    "dt.fit(X_train_scale, y_train)"
   ]
  },
  {
   "cell_type": "code",
   "execution_count": 40,
   "metadata": {},
   "outputs": [],
   "source": [
    "y_pred = dt.predict(X_test_scale)"
   ]
  },
  {
   "cell_type": "code",
   "execution_count": 41,
   "metadata": {},
   "outputs": [
    {
     "name": "stdout",
     "output_type": "stream",
     "text": [
      "Precision: 0.51\t Recall: 0.81\t Accuracy: 0.75\n",
      "F1: 0.63\t AUC: 0.77\t Log-loss: 8.79\n"
     ]
    },
    {
     "data": {
      "image/png": "[encoded data removed]",
      "text/plain": [
       "<Figure size 432x288 with 2 Axes>"
      ]
     },
     "metadata": {
      "needs_background": "light"
     },
     "output_type": "display_data"
    }
   ],
   "source": [
    "report(y_test, y_pred)"
   ]
  },
  {
   "cell_type": "markdown",
   "metadata": {},
   "source": [
    "**3. Random forest**"
   ]
  },
  {
   "cell_type": "code",
   "execution_count": 42,
   "metadata": {},
   "outputs": [
    {
     "data": {
      "text/plain": [
       "RandomForestClassifier(class_weight='balanced', criterion='entropy',\n",
       "                       max_depth=5, n_estimators=10, random_state=55)"
      ]
     },
     "execution_count": 42,
     "metadata": {},
     "output_type": "execute_result"
    }
   ],
   "source": [
    "rf = RandomForestClassifier(n_estimators=10, criterion='entropy', max_depth=5, random_state=55, class_weight='balanced')\n",
    "\n",
    "rf.fit(X_train_scale, y_train)"
   ]
  },
  {
   "cell_type": "code",
   "execution_count": 43,
   "metadata": {},
   "outputs": [],
   "source": [
    "y_pred = rf.predict(X_test_scale)"
   ]
  },
  {
   "cell_type": "code",
   "execution_count": 44,
   "metadata": {},
   "outputs": [
    {
     "name": "stdout",
     "output_type": "stream",
     "text": [
      "Precision: 0.53\t Recall: 0.81\t Accuracy: 0.76\n",
      "F1: 0.64\t AUC: 0.77\t Log-loss: 8.42\n"
     ]
    },
    {
     "data": {
      "image/png": "[encoded data removed]",
      "text/plain": [
       "<Figure size 432x288 with 2 Axes>"
      ]
     },
     "metadata": {
      "needs_background": "light"
     },
     "output_type": "display_data"
    }
   ],
   "source": [
    "report(y_test, y_pred)"
   ]
  },
  {
   "cell_type": "markdown",
   "metadata": {},
   "source": [
    "**4. Support Vector Machine**"
   ]
  },
  {
   "cell_type": "code",
   "execution_count": 45,
   "metadata": {},
   "outputs": [
    {
     "data": {
      "text/plain": [
       "SVC(class_weight='balanced', random_state=55)"
      ]
     },
     "execution_count": 45,
     "metadata": {},
     "output_type": "execute_result"
    }
   ],
   "source": [
    "svc = SVC(random_state=55, class_weight='balanced')\n",
    "\n",
    "svc.fit(X_train_scale, y_train)"
   ]
  },
  {
   "cell_type": "code",
   "execution_count": 46,
   "metadata": {},
   "outputs": [],
   "source": [
    "y_pred = svc.predict(X_test_scale)"
   ]
  },
  {
   "cell_type": "code",
   "execution_count": 47,
   "metadata": {},
   "outputs": [
    {
     "name": "stdout",
     "output_type": "stream",
     "text": [
      "Precision: 0.51\t Recall: 0.84\t Accuracy: 0.74\n",
      "F1: 0.63\t AUC: 0.77\t Log-loss: 9.01\n"
     ]
    },
    {
     "data": {
      "image/png": "[encoded data removed]",
      "text/plain": [
       "<Figure size 432x288 with 2 Axes>"
      ]
     },
     "metadata": {
      "needs_background": "light"
     },
     "output_type": "display_data"
    }
   ],
   "source": [
    "report(y_test, y_pred)"
   ]
  },
  {
   "cell_type": "markdown",
   "metadata": {},
   "source": [
    "**5. Gradient Boosting**\n",
    "\n",
    "There are no \"class_weight\" parameters in Gradient Boosting and XGBoost. We will apply \"sample_weight\" to the \"fit.()\" method instead.\n",
    "\n",
    "Create the class weight using \"class_weight\" module we import from sklearn.utils."
   ]
  },
  {
   "cell_type": "code",
   "execution_count": 48,
   "metadata": {},
   "outputs": [],
   "source": [
    "classes_weight = class_weight.compute_sample_weight(class_weight='balanced', y=y_train)"
   ]
  },
  {
   "cell_type": "code",
   "execution_count": 49,
   "metadata": {},
   "outputs": [
    {
     "data": {
      "text/plain": [
       "GradientBoostingClassifier(random_state=55)"
      ]
     },
     "execution_count": 49,
     "metadata": {},
     "output_type": "execute_result"
    }
   ],
   "source": [
    "gbc = GradientBoostingClassifier(random_state=55)\n",
    "\n",
    "gbc.fit(X_train_scale, y_train, sample_weight=classes_weight)"
   ]
  },
  {
   "cell_type": "code",
   "execution_count": 50,
   "metadata": {},
   "outputs": [],
   "source": [
    "y_pred = gbc.predict(X_test_scale)"
   ]
  },
  {
   "cell_type": "code",
   "execution_count": 51,
   "metadata": {},
   "outputs": [
    {
     "name": "stdout",
     "output_type": "stream",
     "text": [
      "Precision: 0.53\t Recall: 0.83\t Accuracy: 0.76\n",
      "F1: 0.65\t AUC: 0.78\t Log-loss: 8.22\n"
     ]
    },
    {
     "data": {
      "image/png": "[encoded data removed]",
      "text/plain": [
       "<Figure size 432x288 with 2 Axes>"
      ]
     },
     "metadata": {
      "needs_background": "light"
     },
     "output_type": "display_data"
    }
   ],
   "source": [
    "report(y_test, y_pred)"
   ]
  },
  {
   "cell_type": "markdown",
   "metadata": {},
   "source": [
    "**6. XGBoost**"
   ]
  },
  {
   "cell_type": "code",
   "execution_count": 52,
   "metadata": {},
   "outputs": [
    {
     "name": "stdout",
     "output_type": "stream",
     "text": [
      "[22:34:42] WARNING: ..\\src\\learner.cc:1061: Starting in XGBoost 1.3.0, the default evaluation metric used with the objective 'binary:logistic' was changed from 'error' to 'logloss'. Explicitly set eval_metric if you'd like to restore the old behavior.\n"
     ]
    },
    {
     "data": {
      "text/plain": [
       "XGBClassifier(base_score=0.5, booster='gbtree', colsample_bylevel=1,\n",
       "              colsample_bynode=1, colsample_bytree=1, gamma=0, gpu_id=-1,\n",
       "              importance_type='gain', interaction_constraints='',\n",
       "              learning_rate=0.300000012, max_delta_step=0, max_depth=6,\n",
       "              min_child_weight=1, missing=nan, monotone_constraints='()',\n",
       "              n_estimators=100, n_jobs=8, num_parallel_tree=1, random_state=55,\n",
       "              reg_alpha=0, reg_lambda=1, scale_pos_weight=1, seed=55,\n",
       "              subsample=1, tree_method='exact', validate_parameters=1,\n",
       "              verbosity=None)"
      ]
     },
     "execution_count": 52,
     "metadata": {},
     "output_type": "execute_result"
    }
   ],
   "source": [
    "xgb = xgb.XGBClassifier(seed=55, objective='binary:logistic')\n",
    "\n",
    "xgb.fit(X_train_scale, y_train, sample_weight=classes_weight)"
   ]
  },
  {
   "cell_type": "code",
   "execution_count": 53,
   "metadata": {},
   "outputs": [],
   "source": [
    "y_pred = xgb.predict(X_test_scale)"
   ]
  },
  {
   "cell_type": "code",
   "execution_count": 54,
   "metadata": {},
   "outputs": [
    {
     "data": {
      "text/plain": [
       "array([[812, 221],\n",
       "       [103, 271]], dtype=int64)"
      ]
     },
     "execution_count": 54,
     "metadata": {},
     "output_type": "execute_result"
    }
   ],
   "source": [
    "confusion_matrix(y_test, y_pred)"
   ]
  },
  {
   "cell_type": "code",
   "execution_count": 55,
   "metadata": {},
   "outputs": [
    {
     "name": "stdout",
     "output_type": "stream",
     "text": [
      "Precision: 0.55\t Recall: 0.72\t Accuracy: 0.77\n",
      "F1: 0.63\t AUC: 0.76\t Log-loss: 7.95\n"
     ]
    },
    {
     "data": {
      "image/png": "[encoded data removed]",
      "text/plain": [
       "<Figure size 432x288 with 2 Axes>"
      ]
     },
     "metadata": {
      "needs_background": "light"
     },
     "output_type": "display_data"
    }
   ],
   "source": [
    "report(y_test, y_pred)"
   ]
  },
  {
   "cell_type": "markdown",
   "metadata": {},
   "source": [
    "Create a table for all metrics score."
   ]
  },
  {
   "cell_type": "code",
   "execution_count": 56,
   "metadata": {},
   "outputs": [],
   "source": [
    "model = ['logistic', 'decision', 'random forest', 'SVM', 'gradientboost', 'xgboost']"
   ]
  },
  {
   "cell_type": "code",
   "execution_count": 57,
   "metadata": {},
   "outputs": [],
   "source": [
    "table = pd.DataFrame({'model':model, 'precision':precision, 'recall':recall, 'accuracy':accuracy, \n",
    "                       'f1':f1, 'auc':auc, 'logloss':lloss})"
   ]
  },
  {
   "cell_type": "code",
   "execution_count": 58,
   "metadata": {
    "scrolled": true
   },
   "outputs": [
    {
     "data": {
      "text/html": [
       "<div>\n",
       "<style scoped>\n",
       "    .dataframe tbody tr th:only-of-type {\n",
       "        vertical-align: middle;\n",
       "    }\n",
       "\n",
       "    .dataframe tbody tr th {\n",
       "        vertical-align: top;\n",
       "    }\n",
       "\n",
       "    .dataframe thead th {\n",
       "        text-align: right;\n",
       "    }\n",
       "</style>\n",
       "<table border=\"1\" class=\"dataframe\">\n",
       "  <thead>\n",
       "    <tr style=\"text-align: right;\">\n",
       "      <th></th>\n",
       "      <th>model</th>\n",
       "      <th>precision</th>\n",
       "      <th>recall</th>\n",
       "      <th>accuracy</th>\n",
       "      <th>f1</th>\n",
       "      <th>auc</th>\n",
       "      <th>logloss</th>\n",
       "    </tr>\n",
       "  </thead>\n",
       "  <tbody>\n",
       "    <tr>\n",
       "      <th>0</th>\n",
       "      <td>logistic</td>\n",
       "      <td>0.53</td>\n",
       "      <td>0.82</td>\n",
       "      <td>0.76</td>\n",
       "      <td>0.64</td>\n",
       "      <td>0.78</td>\n",
       "      <td>8.44</td>\n",
       "    </tr>\n",
       "    <tr>\n",
       "      <th>1</th>\n",
       "      <td>decision</td>\n",
       "      <td>0.51</td>\n",
       "      <td>0.81</td>\n",
       "      <td>0.75</td>\n",
       "      <td>0.63</td>\n",
       "      <td>0.77</td>\n",
       "      <td>8.79</td>\n",
       "    </tr>\n",
       "    <tr>\n",
       "      <th>2</th>\n",
       "      <td>random forest</td>\n",
       "      <td>0.53</td>\n",
       "      <td>0.81</td>\n",
       "      <td>0.76</td>\n",
       "      <td>0.64</td>\n",
       "      <td>0.77</td>\n",
       "      <td>8.42</td>\n",
       "    </tr>\n",
       "    <tr>\n",
       "      <th>3</th>\n",
       "      <td>SVM</td>\n",
       "      <td>0.51</td>\n",
       "      <td>0.84</td>\n",
       "      <td>0.74</td>\n",
       "      <td>0.63</td>\n",
       "      <td>0.77</td>\n",
       "      <td>9.01</td>\n",
       "    </tr>\n",
       "    <tr>\n",
       "      <th>4</th>\n",
       "      <td>gradientboost</td>\n",
       "      <td>0.53</td>\n",
       "      <td>0.83</td>\n",
       "      <td>0.76</td>\n",
       "      <td>0.65</td>\n",
       "      <td>0.78</td>\n",
       "      <td>8.22</td>\n",
       "    </tr>\n",
       "    <tr>\n",
       "      <th>5</th>\n",
       "      <td>xgboost</td>\n",
       "      <td>0.55</td>\n",
       "      <td>0.72</td>\n",
       "      <td>0.77</td>\n",
       "      <td>0.63</td>\n",
       "      <td>0.76</td>\n",
       "      <td>7.95</td>\n",
       "    </tr>\n",
       "  </tbody>\n",
       "</table>\n",
       "</div>"
      ],
      "text/plain": [
       "           model  precision  recall  accuracy    f1   auc  logloss\n",
       "0       logistic       0.53    0.82      0.76  0.64  0.78     8.44\n",
       "1       decision       0.51    0.81      0.75  0.63  0.77     8.79\n",
       "2  random forest       0.53    0.81      0.76  0.64  0.77     8.42\n",
       "3            SVM       0.51    0.84      0.74  0.63  0.77     9.01\n",
       "4  gradientboost       0.53    0.83      0.76  0.65  0.78     8.22\n",
       "5        xgboost       0.55    0.72      0.77  0.63  0.76     7.95"
      ]
     },
     "execution_count": 58,
     "metadata": {},
     "output_type": "execute_result"
    }
   ],
   "source": [
    "table"
   ]
  },
  {
   "cell_type": "markdown",
   "metadata": {},
   "source": [
    "From the table we can see that the scores for all models looks identical. We decide to choose our model base on recall and log-loss. Here, we will choose Gradient Boost as our final model (*SVM has best recall but worst log-loss. XGBOOST has the best log-loss but worst recall. That is why Gradient Boost is our pick).\n",
    "\n",
    "Perform hyperparameters tuning by using GridSearchCV to find the best value for the hyperparameters."
   ]
  },
  {
   "cell_type": "code",
   "execution_count": 59,
   "metadata": {},
   "outputs": [],
   "source": [
    "para_dict_gbc = {'n_estimators':[25, 50, 75, 100, 125],           # set the hyperparameters value\n",
    "                 'max_depth':[3, 5, 7, 9, 11],\n",
    "                 'learning_rate':[0.05, 0.1, 0.15, 0.2, 0.25]}"
   ]
  },
  {
   "cell_type": "code",
   "execution_count": 60,
   "metadata": {},
   "outputs": [
    {
     "data": {
      "text/plain": [
       "GridSearchCV(estimator=GradientBoostingClassifier(random_state=55), n_jobs=-1,\n",
       "             param_grid={'learning_rate': [0.05, 0.1, 0.15, 0.2, 0.25],\n",
       "                         'max_depth': [3, 5, 7, 9, 11],\n",
       "                         'n_estimators': [25, 50, 75, 100, 125]})"
      ]
     },
     "execution_count": 60,
     "metadata": {},
     "output_type": "execute_result"
    }
   ],
   "source": [
    "grid_model_gbc = GridSearchCV(param_grid=para_dict_gbc, estimator=gbc, n_jobs=-1)\n",
    "\n",
    "grid_model_gbc.fit(X_train_scale, y_train)"
   ]
  },
  {
   "cell_type": "code",
   "execution_count": 61,
   "metadata": {},
   "outputs": [
    {
     "data": {
      "text/plain": [
       "{'learning_rate': 0.05, 'max_depth': 5, 'n_estimators': 50}"
      ]
     },
     "execution_count": 61,
     "metadata": {},
     "output_type": "execute_result"
    }
   ],
   "source": [
    "grid_model_gbc.best_params_"
   ]
  },
  {
   "cell_type": "markdown",
   "metadata": {},
   "source": [
    "Plug in these hyperparmeters value to the model and see how the model perform."
   ]
  },
  {
   "cell_type": "code",
   "execution_count": 62,
   "metadata": {},
   "outputs": [
    {
     "data": {
      "text/plain": [
       "GradientBoostingClassifier(learning_rate=0.05, max_depth=5, n_estimators=50,\n",
       "                           random_state=55)"
      ]
     },
     "execution_count": 62,
     "metadata": {},
     "output_type": "execute_result"
    }
   ],
   "source": [
    "tuned_model = GradientBoostingClassifier(learning_rate=0.05, max_depth=5, n_estimators=50, random_state=55)\n",
    "\n",
    "tuned_model.fit(X_train_scale, y_train, sample_weight=classes_weight)"
   ]
  },
  {
   "cell_type": "code",
   "execution_count": 63,
   "metadata": {},
   "outputs": [],
   "source": [
    "y_pred = tuned_model.predict(X_test_scale)"
   ]
  },
  {
   "cell_type": "markdown",
   "metadata": {},
   "source": [
    "Get the base model metrics score for comparision."
   ]
  },
  {
   "cell_type": "code",
   "execution_count": 64,
   "metadata": {},
   "outputs": [
    {
     "data": {
      "text/html": [
       "<div>\n",
       "<style scoped>\n",
       "    .dataframe tbody tr th:only-of-type {\n",
       "        vertical-align: middle;\n",
       "    }\n",
       "\n",
       "    .dataframe tbody tr th {\n",
       "        vertical-align: top;\n",
       "    }\n",
       "\n",
       "    .dataframe thead th {\n",
       "        text-align: right;\n",
       "    }\n",
       "</style>\n",
       "<table border=\"1\" class=\"dataframe\">\n",
       "  <thead>\n",
       "    <tr style=\"text-align: right;\">\n",
       "      <th></th>\n",
       "      <th>model</th>\n",
       "      <th>precision</th>\n",
       "      <th>recall</th>\n",
       "      <th>accuracy</th>\n",
       "      <th>f1</th>\n",
       "      <th>auc</th>\n",
       "      <th>logloss</th>\n",
       "    </tr>\n",
       "  </thead>\n",
       "  <tbody>\n",
       "    <tr>\n",
       "      <th>4</th>\n",
       "      <td>gradientboost</td>\n",
       "      <td>0.53</td>\n",
       "      <td>0.83</td>\n",
       "      <td>0.76</td>\n",
       "      <td>0.65</td>\n",
       "      <td>0.78</td>\n",
       "      <td>8.22</td>\n",
       "    </tr>\n",
       "  </tbody>\n",
       "</table>\n",
       "</div>"
      ],
      "text/plain": [
       "           model  precision  recall  accuracy    f1   auc  logloss\n",
       "4  gradientboost       0.53    0.83      0.76  0.65  0.78     8.22"
      ]
     },
     "execution_count": 64,
     "metadata": {},
     "output_type": "execute_result"
    }
   ],
   "source": [
    "table.loc[[4]]"
   ]
  },
  {
   "cell_type": "markdown",
   "metadata": {},
   "source": [
    "Get the tuned model metrics score."
   ]
  },
  {
   "cell_type": "code",
   "execution_count": 65,
   "metadata": {},
   "outputs": [
    {
     "name": "stdout",
     "output_type": "stream",
     "text": [
      "Precision: 0.54\t Recall: 0.8\t Accuracy: 0.77\n",
      "F1: 0.65\t AUC: 0.78\t Log-loss: 8.1\n"
     ]
    },
    {
     "data": {
      "image/png": "[encoded data removed]",
      "text/plain": [
       "<Figure size 432x288 with 2 Axes>"
      ]
     },
     "metadata": {
      "needs_background": "light"
     },
     "output_type": "display_data"
    }
   ],
   "source": [
    "report(y_test, y_pred)"
   ]
  },
  {
   "cell_type": "markdown",
   "metadata": {},
   "source": [
    "The log-loss and accuracy have improved but the recall score has dropped.\n",
    "\n",
    "Take a look at the features importance."
   ]
  },
  {
   "cell_type": "code",
   "execution_count": 66,
   "metadata": {},
   "outputs": [
    {
     "data": {
      "text/plain": [
       "<AxesSubplot:>"
      ]
     },
     "execution_count": 66,
     "metadata": {},
     "output_type": "execute_result"
    },
    {
     "data": {
      "image/png": "[encoded data removed]",
      "text/plain": [
       "<Figure size 432x288 with 1 Axes>"
      ]
     },
     "metadata": {
      "needs_background": "light"
     },
     "output_type": "display_data"
    }
   ],
   "source": [
    "feat = pd.Series(tuned_model.feature_importances_, index=X_test_scale.columns)\n",
    "feat.sort_values().plot(kind='barh')"
   ]
  },
  {
   "cell_type": "markdown",
   "metadata": {},
   "source": [
    "As we can see, \"contract\" contributes the most compare to other features (more than 50%).\n",
    "\n",
    "Although the accuracy and log-loss improved, but since we want to catch as much as possible of those customers that churned, we will want the recall score to be as high as possible (but it has dropped).\n",
    "\n",
    "Let's tune more hyperparameters and see how the tuned model perform."
   ]
  },
  {
   "cell_type": "code",
   "execution_count": 67,
   "metadata": {},
   "outputs": [],
   "source": [
    "para_dict_gbc_2 = {'min_samples_split':[1, 3, 5, 7, 9],           # set the hyperparamters value\n",
    "                 'min_samples_leaf':[12, 14 , 16, 18, 20], \n",
    "                 'max_features':['sqrt', 'log2']}"
   ]
  },
  {
   "cell_type": "code",
   "execution_count": 68,
   "metadata": {},
   "outputs": [
    {
     "data": {
      "text/plain": [
       "GridSearchCV(estimator=GradientBoostingClassifier(learning_rate=0.05,\n",
       "                                                  max_depth=5, n_estimators=50,\n",
       "                                                  random_state=55),\n",
       "             n_jobs=-1,\n",
       "             param_grid={'max_features': ['sqrt', 'log2'],\n",
       "                         'min_samples_leaf': [12, 14, 16, 18, 20],\n",
       "                         'min_samples_split': [1, 3, 5, 7, 9]})"
      ]
     },
     "execution_count": 68,
     "metadata": {},
     "output_type": "execute_result"
    }
   ],
   "source": [
    "grid_model_gbc = GridSearchCV(param_grid=para_dict_gbc_2, estimator=tuned_model, n_jobs=-1)\n",
    "\n",
    "grid_model_gbc.fit(X_train_scale, y_train)"
   ]
  },
  {
   "cell_type": "code",
   "execution_count": 69,
   "metadata": {},
   "outputs": [
    {
     "data": {
      "text/plain": [
       "{'max_features': 'sqrt', 'min_samples_leaf': 12, 'min_samples_split': 3}"
      ]
     },
     "execution_count": 69,
     "metadata": {},
     "output_type": "execute_result"
    }
   ],
   "source": [
    "grid_model_gbc.best_params_"
   ]
  },
  {
   "cell_type": "markdown",
   "metadata": {},
   "source": [
    "Plug in all hyperparameters we tuned with the best value into the model and see the performace."
   ]
  },
  {
   "cell_type": "code",
   "execution_count": 70,
   "metadata": {},
   "outputs": [
    {
     "data": {
      "text/plain": [
       "GradientBoostingClassifier(learning_rate=0.05, max_depth=5, max_features='sqrt',\n",
       "                           min_samples_leaf=12, min_samples_split=3,\n",
       "                           n_estimators=50, random_state=55)"
      ]
     },
     "execution_count": 70,
     "metadata": {},
     "output_type": "execute_result"
    }
   ],
   "source": [
    "best_para_gbc = GradientBoostingClassifier(learning_rate=0.05, max_depth=5, n_estimators=50, max_features='sqrt', \n",
    "                                           min_samples_leaf=12, min_samples_split=3, random_state=55)\n",
    "\n",
    "best_para_gbc.fit(X_train_scale, y_train, sample_weight=classes_weight)"
   ]
  },
  {
   "cell_type": "code",
   "execution_count": 71,
   "metadata": {},
   "outputs": [],
   "source": [
    "y_pred = best_para_gbc.predict(X_test_scale)"
   ]
  },
  {
   "cell_type": "markdown",
   "metadata": {},
   "source": [
    "Get the base model metrics score for comparison."
   ]
  },
  {
   "cell_type": "code",
   "execution_count": 72,
   "metadata": {},
   "outputs": [
    {
     "data": {
      "text/html": [
       "<div>\n",
       "<style scoped>\n",
       "    .dataframe tbody tr th:only-of-type {\n",
       "        vertical-align: middle;\n",
       "    }\n",
       "\n",
       "    .dataframe tbody tr th {\n",
       "        vertical-align: top;\n",
       "    }\n",
       "\n",
       "    .dataframe thead th {\n",
       "        text-align: right;\n",
       "    }\n",
       "</style>\n",
       "<table border=\"1\" class=\"dataframe\">\n",
       "  <thead>\n",
       "    <tr style=\"text-align: right;\">\n",
       "      <th></th>\n",
       "      <th>model</th>\n",
       "      <th>precision</th>\n",
       "      <th>recall</th>\n",
       "      <th>accuracy</th>\n",
       "      <th>f1</th>\n",
       "      <th>auc</th>\n",
       "      <th>logloss</th>\n",
       "    </tr>\n",
       "  </thead>\n",
       "  <tbody>\n",
       "    <tr>\n",
       "      <th>4</th>\n",
       "      <td>gradientboost</td>\n",
       "      <td>0.53</td>\n",
       "      <td>0.83</td>\n",
       "      <td>0.76</td>\n",
       "      <td>0.65</td>\n",
       "      <td>0.78</td>\n",
       "      <td>8.22</td>\n",
       "    </tr>\n",
       "  </tbody>\n",
       "</table>\n",
       "</div>"
      ],
      "text/plain": [
       "           model  precision  recall  accuracy    f1   auc  logloss\n",
       "4  gradientboost       0.53    0.83      0.76  0.65  0.78     8.22"
      ]
     },
     "execution_count": 72,
     "metadata": {},
     "output_type": "execute_result"
    }
   ],
   "source": [
    "table.iloc[[4]]"
   ]
  },
  {
   "cell_type": "markdown",
   "metadata": {},
   "source": [
    "Get the scores for 2nd tuned model and compare."
   ]
  },
  {
   "cell_type": "code",
   "execution_count": 73,
   "metadata": {
    "scrolled": true
   },
   "outputs": [
    {
     "name": "stdout",
     "output_type": "stream",
     "text": [
      "Precision: 0.54\t Recall: 0.83\t Accuracy: 0.77\n",
      "F1: 0.66\t AUC: 0.79\t Log-loss: 8.0\n"
     ]
    },
    {
     "data": {
      "image/png": "[encoded data removed]",
      "text/plain": [
       "<Figure size 432x288 with 2 Axes>"
      ]
     },
     "metadata": {
      "needs_background": "light"
     },
     "output_type": "display_data"
    }
   ],
   "source": [
    "report(y_test, y_pred)"
   ]
  },
  {
   "cell_type": "markdown",
   "metadata": {},
   "source": [
    "The recall score is back to 83%.\n",
    "\n",
    "Take a look at the features importance."
   ]
  },
  {
   "cell_type": "code",
   "execution_count": 74,
   "metadata": {},
   "outputs": [
    {
     "data": {
      "text/plain": [
       "<AxesSubplot:>"
      ]
     },
     "execution_count": 74,
     "metadata": {},
     "output_type": "execute_result"
    },
    {
     "data": {
      "image/png": "[encoded data removed]",
      "text/plain": [
       "<Figure size 432x288 with 1 Axes>"
      ]
     },
     "metadata": {
      "needs_background": "light"
     },
     "output_type": "display_data"
    }
   ],
   "source": [
    "feat = pd.Series(best_para_gbc.feature_importances_, index=X_test_scale.columns)\n",
    "feat.sort_values().plot(kind='barh')"
   ]
  },
  {
   "attachments": {},
   "cell_type": "markdown",
   "metadata": {},
   "source": [
    "From the 2nd tuned model, we can see that although \"contract\" is still the most importance feature but the weightage has reduced. The importance ranking of the other features have also changed.\n",
    "\n",
    "Compare to the 1st tuned model, recall has improved from 80% to 83% (same as \tthe base model). Log-loss has also improved by 0.1 (from 8.1 to 8.0). Although the \taccuracy has dropped from 77% to 76% but it is still same as the base model. The AUC score (which is also a good indicator that show how the model is perfoming) has also improved from 78% to 79%. Overall we are satisfied with the 2nd tuned model performance and so this will be our final model.\n",
    "\n",
    "### Conclusion\n",
    "\n",
    "- The count plot give us an indication on which area the company should work on to keep the customers.\n",
    "- Together with features importance, the company priority now is to tie down customers who have no contract with the company.\n",
    "- Depend on the management feedback, we might change our approach on the task in a few ways:\n",
    "    1. Focusing on those customers that are under contract to predict if they will churned when their contract expired – remove customers without contract from the dataset since the company will be working on them.\n",
    "    2. Change the threshold of the model to reduce the number of customers that actually “churn” but wrongly predicted as “stay” (improve the recall score)."
   ]
  },
  {
   "cell_type": "code",
   "execution_count": null,
   "metadata": {},
   "outputs": [],
   "source": []
  }
 ],
 "metadata": {
  "kernelspec": {
   "display_name": "Python 3",
   "language": "python",
   "name": "python3"
  },
  "language_info": {
   "codemirror_mode": {
    "name": "ipython",
    "version": 3
   },
   "file_extension": ".py",
   "mimetype": "text/x-python",
   "name": "python",
   "nbconvert_exporter": "python",
   "pygments_lexer": "ipython3",
   "version": "3.8.5"
  }
 },
 "nbformat": 4,
 "nbformat_minor": 4
}
